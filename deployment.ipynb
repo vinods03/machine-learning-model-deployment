{
 "cells": [
  {
   "cell_type": "markdown",
   "id": "ebad19bb-4b90-41e1-a45b-4e7ca0fa23cd",
   "metadata": {},
   "source": [
    "# Setup"
   ]
  },
  {
   "cell_type": "code",
   "execution_count": 1,
   "id": "71533be8-acbb-4eb1-91ee-41e8e500de61",
   "metadata": {},
   "outputs": [
    {
     "name": "stderr",
     "output_type": "stream",
     "text": [
      "/home/ec2-user/anaconda3/envs/python3/lib/python3.10/site-packages/pydantic/_internal/_fields.py:192: UserWarning: Field name \"json\" in \"MonitoringDatasetFormat\" shadows an attribute in parent \"Base\"\n",
      "  warnings.warn(\n"
     ]
    },
    {
     "data": {
      "text/html": [
       "<pre style=\"white-space:pre;overflow-x:auto;line-height:normal;font-family:Menlo,'DejaVu Sans Mono',consolas,'Courier New',monospace\"><span style=\"color: #7fbfbf; text-decoration-color: #7fbfbf\">[02/12/25 08:39:37] </span><span style=\"color: #0069ff; text-decoration-color: #0069ff; font-weight: bold\">INFO    </span> Found credentials from IAM Role:                                   <a href=\"file:///home/ec2-user/anaconda3/envs/python3/lib/python3.10/site-packages/botocore/credentials.py\" target=\"_blank\"><span style=\"color: #7f7f7f; text-decoration-color: #7f7f7f\">credentials.py</span></a><span style=\"color: #7f7f7f; text-decoration-color: #7f7f7f\">:</span><a href=\"file:///home/ec2-user/anaconda3/envs/python3/lib/python3.10/site-packages/botocore/credentials.py#1075\" target=\"_blank\"><span style=\"color: #7f7f7f; text-decoration-color: #7f7f7f\">1075</span></a>\n",
       "<span style=\"color: #7fbfbf; text-decoration-color: #7fbfbf\">                    </span>         BaseNotebookInstanceEc2InstanceRole                                <span style=\"color: #7f7f7f; text-decoration-color: #7f7f7f\">                   </span>\n",
       "</pre>\n"
      ],
      "text/plain": [
       "\u001b[2;36m[02/12/25 08:39:37]\u001b[0m\u001b[2;36m \u001b[0m\u001b[1;38;2;0;105;255mINFO    \u001b[0m Found credentials from IAM Role:                                   \u001b]8;id=613061;file:///home/ec2-user/anaconda3/envs/python3/lib/python3.10/site-packages/botocore/credentials.py\u001b\\\u001b[2mcredentials.py\u001b[0m\u001b]8;;\u001b\\\u001b[2m:\u001b[0m\u001b]8;id=937199;file:///home/ec2-user/anaconda3/envs/python3/lib/python3.10/site-packages/botocore/credentials.py#1075\u001b\\\u001b[2m1075\u001b[0m\u001b]8;;\u001b\\\n",
       "\u001b[2;36m                    \u001b[0m         BaseNotebookInstanceEc2InstanceRole                                \u001b[2m                   \u001b[0m\n"
      ]
     },
     "metadata": {},
     "output_type": "display_data"
    },
    {
     "name": "stdout",
     "output_type": "stream",
     "text": [
      "sagemaker.config INFO - Not applying SDK defaults from location: /etc/xdg/sagemaker/config.yaml\n",
      "sagemaker.config INFO - Not applying SDK defaults from location: /home/ec2-user/.config/sagemaker/config.yaml\n"
     ]
    },
    {
     "data": {
      "text/html": [
       "<pre style=\"white-space:pre;overflow-x:auto;line-height:normal;font-family:Menlo,'DejaVu Sans Mono',consolas,'Courier New',monospace\"><span style=\"color: #7fbfbf; text-decoration-color: #7fbfbf\">[02/12/25 08:39:38] </span><span style=\"color: #0069ff; text-decoration-color: #0069ff; font-weight: bold\">INFO    </span> Found credentials from IAM Role:                                   <a href=\"file:///home/ec2-user/anaconda3/envs/python3/lib/python3.10/site-packages/botocore/credentials.py\" target=\"_blank\"><span style=\"color: #7f7f7f; text-decoration-color: #7f7f7f\">credentials.py</span></a><span style=\"color: #7f7f7f; text-decoration-color: #7f7f7f\">:</span><a href=\"file:///home/ec2-user/anaconda3/envs/python3/lib/python3.10/site-packages/botocore/credentials.py#1075\" target=\"_blank\"><span style=\"color: #7f7f7f; text-decoration-color: #7f7f7f\">1075</span></a>\n",
       "<span style=\"color: #7fbfbf; text-decoration-color: #7fbfbf\">                    </span>         BaseNotebookInstanceEc2InstanceRole                                <span style=\"color: #7f7f7f; text-decoration-color: #7f7f7f\">                   </span>\n",
       "</pre>\n"
      ],
      "text/plain": [
       "\u001b[2;36m[02/12/25 08:39:38]\u001b[0m\u001b[2;36m \u001b[0m\u001b[1;38;2;0;105;255mINFO    \u001b[0m Found credentials from IAM Role:                                   \u001b]8;id=434721;file:///home/ec2-user/anaconda3/envs/python3/lib/python3.10/site-packages/botocore/credentials.py\u001b\\\u001b[2mcredentials.py\u001b[0m\u001b]8;;\u001b\\\u001b[2m:\u001b[0m\u001b]8;id=304977;file:///home/ec2-user/anaconda3/envs/python3/lib/python3.10/site-packages/botocore/credentials.py#1075\u001b\\\u001b[2m1075\u001b[0m\u001b]8;;\u001b\\\n",
       "\u001b[2;36m                    \u001b[0m         BaseNotebookInstanceEc2InstanceRole                                \u001b[2m                   \u001b[0m\n"
      ]
     },
     "metadata": {},
     "output_type": "display_data"
    },
    {
     "data": {
      "text/html": [
       "<pre style=\"white-space:pre;overflow-x:auto;line-height:normal;font-family:Menlo,'DejaVu Sans Mono',consolas,'Courier New',monospace\"><span style=\"color: #7fbfbf; text-decoration-color: #7fbfbf\">[02/12/25 08:39:39] </span><span style=\"color: #0069ff; text-decoration-color: #0069ff; font-weight: bold\">INFO    </span> Found credentials from IAM Role:                                   <a href=\"file:///home/ec2-user/anaconda3/envs/python3/lib/python3.10/site-packages/botocore/credentials.py\" target=\"_blank\"><span style=\"color: #7f7f7f; text-decoration-color: #7f7f7f\">credentials.py</span></a><span style=\"color: #7f7f7f; text-decoration-color: #7f7f7f\">:</span><a href=\"file:///home/ec2-user/anaconda3/envs/python3/lib/python3.10/site-packages/botocore/credentials.py#1075\" target=\"_blank\"><span style=\"color: #7f7f7f; text-decoration-color: #7f7f7f\">1075</span></a>\n",
       "<span style=\"color: #7fbfbf; text-decoration-color: #7fbfbf\">                    </span>         BaseNotebookInstanceEc2InstanceRole                                <span style=\"color: #7f7f7f; text-decoration-color: #7f7f7f\">                   </span>\n",
       "</pre>\n"
      ],
      "text/plain": [
       "\u001b[2;36m[02/12/25 08:39:39]\u001b[0m\u001b[2;36m \u001b[0m\u001b[1;38;2;0;105;255mINFO    \u001b[0m Found credentials from IAM Role:                                   \u001b]8;id=974229;file:///home/ec2-user/anaconda3/envs/python3/lib/python3.10/site-packages/botocore/credentials.py\u001b\\\u001b[2mcredentials.py\u001b[0m\u001b]8;;\u001b\\\u001b[2m:\u001b[0m\u001b]8;id=120150;file:///home/ec2-user/anaconda3/envs/python3/lib/python3.10/site-packages/botocore/credentials.py#1075\u001b\\\u001b[2m1075\u001b[0m\u001b]8;;\u001b\\\n",
       "\u001b[2;36m                    \u001b[0m         BaseNotebookInstanceEc2InstanceRole                                \u001b[2m                   \u001b[0m\n"
      ]
     },
     "metadata": {},
     "output_type": "display_data"
    }
   ],
   "source": [
    "import sagemaker\n",
    "from sagemaker import get_execution_role\n",
    "from sagemaker.inputs import TrainingInput\n",
    "import boto3\n",
    "import pandas as pd\n",
    "from sklearn.model_selection import train_test_split \n",
    "\n",
    "sagemaker_session = sagemaker.Session()\n",
    "role = get_execution_role()\n",
    "region = boto3.Session().region_name\n",
    "\n",
    "# S3 bucket for storing data\n",
    "bucket = 'sagemaker-us-east-1-100163808729'\n",
    "prefix = 'deployment'\n",
    "output_path = f's3://{bucket}/{prefix}/output'"
   ]
  },
  {
   "cell_type": "markdown",
   "id": "f8ee351f-0e0a-4d79-9db8-a060a6897e7d",
   "metadata": {},
   "source": [
    "# Prepare dataset"
   ]
  },
  {
   "cell_type": "code",
   "execution_count": 2,
   "id": "7a034b96-536c-46a9-8f17-328afbee40a3",
   "metadata": {},
   "outputs": [
    {
     "name": "stderr",
     "output_type": "stream",
     "text": [
      "/home/ec2-user/anaconda3/envs/python3/lib/python3.10/site-packages/fsspec/registry.py:283: UserWarning: Your installed version of s3fs is very old and known to cause\n",
      "severe performance issues, see also https://github.com/dask/dask/issues/10276\n",
      "\n",
      "To fix, you should specify a lower version bound on s3fs, or\n",
      "update the current installation.\n",
      "\n",
      "  warnings.warn(s3_msg)\n"
     ]
    },
    {
     "data": {
      "text/html": [
       "<pre style=\"white-space:pre;overflow-x:auto;line-height:normal;font-family:Menlo,'DejaVu Sans Mono',consolas,'Courier New',monospace\"><span style=\"color: #7fbfbf; text-decoration-color: #7fbfbf\">                    </span><span style=\"color: #0069ff; text-decoration-color: #0069ff; font-weight: bold\">INFO    </span> Found credentials from IAM Role:                                   <a href=\"file:///home/ec2-user/anaconda3/envs/python3/lib/python3.10/site-packages/botocore/credentials.py\" target=\"_blank\"><span style=\"color: #7f7f7f; text-decoration-color: #7f7f7f\">credentials.py</span></a><span style=\"color: #7f7f7f; text-decoration-color: #7f7f7f\">:</span><a href=\"file:///home/ec2-user/anaconda3/envs/python3/lib/python3.10/site-packages/botocore/credentials.py#1075\" target=\"_blank\"><span style=\"color: #7f7f7f; text-decoration-color: #7f7f7f\">1075</span></a>\n",
       "<span style=\"color: #7fbfbf; text-decoration-color: #7fbfbf\">                    </span>         BaseNotebookInstanceEc2InstanceRole                                <span style=\"color: #7f7f7f; text-decoration-color: #7f7f7f\">                   </span>\n",
       "</pre>\n"
      ],
      "text/plain": [
       "\u001b[2;36m                   \u001b[0m\u001b[2;36m \u001b[0m\u001b[1;38;2;0;105;255mINFO    \u001b[0m Found credentials from IAM Role:                                   \u001b]8;id=314164;file:///home/ec2-user/anaconda3/envs/python3/lib/python3.10/site-packages/botocore/credentials.py\u001b\\\u001b[2mcredentials.py\u001b[0m\u001b]8;;\u001b\\\u001b[2m:\u001b[0m\u001b]8;id=336201;file:///home/ec2-user/anaconda3/envs/python3/lib/python3.10/site-packages/botocore/credentials.py#1075\u001b\\\u001b[2m1075\u001b[0m\u001b]8;;\u001b\\\n",
       "\u001b[2;36m                    \u001b[0m         BaseNotebookInstanceEc2InstanceRole                                \u001b[2m                   \u001b[0m\n"
      ]
     },
     "metadata": {},
     "output_type": "display_data"
    },
    {
     "data": {
      "text/html": [
       "<pre style=\"white-space:pre;overflow-x:auto;line-height:normal;font-family:Menlo,'DejaVu Sans Mono',consolas,'Courier New',monospace\"><span style=\"color: #7fbfbf; text-decoration-color: #7fbfbf\">[02/12/25 08:39:40] </span><span style=\"color: #0069ff; text-decoration-color: #0069ff; font-weight: bold\">INFO    </span> Skipping checksum validation. Response did not contain one of the  <a href=\"file:///home/ec2-user/anaconda3/envs/python3/lib/python3.10/site-packages/botocore/httpchecksum.py\" target=\"_blank\"><span style=\"color: #7f7f7f; text-decoration-color: #7f7f7f\">httpchecksum.py</span></a><span style=\"color: #7f7f7f; text-decoration-color: #7f7f7f\">:</span><a href=\"file:///home/ec2-user/anaconda3/envs/python3/lib/python3.10/site-packages/botocore/httpchecksum.py#481\" target=\"_blank\"><span style=\"color: #7f7f7f; text-decoration-color: #7f7f7f\">481</span></a>\n",
       "<span style=\"color: #7fbfbf; text-decoration-color: #7fbfbf\">                    </span>         following algorithms: <span style=\"font-weight: bold\">[</span><span style=\"color: #008700; text-decoration-color: #008700\">'crc32'</span>, <span style=\"color: #008700; text-decoration-color: #008700\">'sha1'</span>, <span style=\"color: #008700; text-decoration-color: #008700\">'sha256'</span><span style=\"font-weight: bold\">]</span>.                 <span style=\"color: #7f7f7f; text-decoration-color: #7f7f7f\">                   </span>\n",
       "</pre>\n"
      ],
      "text/plain": [
       "\u001b[2;36m[02/12/25 08:39:40]\u001b[0m\u001b[2;36m \u001b[0m\u001b[1;38;2;0;105;255mINFO    \u001b[0m Skipping checksum validation. Response did not contain one of the  \u001b]8;id=455437;file:///home/ec2-user/anaconda3/envs/python3/lib/python3.10/site-packages/botocore/httpchecksum.py\u001b\\\u001b[2mhttpchecksum.py\u001b[0m\u001b]8;;\u001b\\\u001b[2m:\u001b[0m\u001b]8;id=57186;file:///home/ec2-user/anaconda3/envs/python3/lib/python3.10/site-packages/botocore/httpchecksum.py#481\u001b\\\u001b[2m481\u001b[0m\u001b]8;;\u001b\\\n",
       "\u001b[2;36m                    \u001b[0m         following algorithms: \u001b[1m[\u001b[0m\u001b[38;2;0;135;0m'crc32'\u001b[0m, \u001b[38;2;0;135;0m'sha1'\u001b[0m, \u001b[38;2;0;135;0m'sha256'\u001b[0m\u001b[1m]\u001b[0m.                 \u001b[2m                   \u001b[0m\n"
      ]
     },
     "metadata": {},
     "output_type": "display_data"
    },
    {
     "name": "stdout",
     "output_type": "stream",
     "text": [
      "Education                     int8\n",
      "JoiningYear                  int64\n",
      "City                          int8\n",
      "PaymentTier                  int64\n",
      "Age                          int64\n",
      "Gender                        int8\n",
      "EverBenched                  int64\n",
      "ExperienceInCurrentDomain    int64\n",
      "LeaveOrNot                   int64\n",
      "dtype: object\n"
     ]
    },
    {
     "data": {
      "text/html": [
       "<pre style=\"white-space:pre;overflow-x:auto;line-height:normal;font-family:Menlo,'DejaVu Sans Mono',consolas,'Courier New',monospace\"><span style=\"color: #7fbfbf; text-decoration-color: #7fbfbf\">                    </span><span style=\"color: #0069ff; text-decoration-color: #0069ff; font-weight: bold\">INFO    </span> Found credentials from IAM Role:                                   <a href=\"file:///home/ec2-user/anaconda3/envs/python3/lib/python3.10/site-packages/botocore/credentials.py\" target=\"_blank\"><span style=\"color: #7f7f7f; text-decoration-color: #7f7f7f\">credentials.py</span></a><span style=\"color: #7f7f7f; text-decoration-color: #7f7f7f\">:</span><a href=\"file:///home/ec2-user/anaconda3/envs/python3/lib/python3.10/site-packages/botocore/credentials.py#1075\" target=\"_blank\"><span style=\"color: #7f7f7f; text-decoration-color: #7f7f7f\">1075</span></a>\n",
       "<span style=\"color: #7fbfbf; text-decoration-color: #7fbfbf\">                    </span>         BaseNotebookInstanceEc2InstanceRole                                <span style=\"color: #7f7f7f; text-decoration-color: #7f7f7f\">                   </span>\n",
       "</pre>\n"
      ],
      "text/plain": [
       "\u001b[2;36m                   \u001b[0m\u001b[2;36m \u001b[0m\u001b[1;38;2;0;105;255mINFO    \u001b[0m Found credentials from IAM Role:                                   \u001b]8;id=413035;file:///home/ec2-user/anaconda3/envs/python3/lib/python3.10/site-packages/botocore/credentials.py\u001b\\\u001b[2mcredentials.py\u001b[0m\u001b]8;;\u001b\\\u001b[2m:\u001b[0m\u001b]8;id=820924;file:///home/ec2-user/anaconda3/envs/python3/lib/python3.10/site-packages/botocore/credentials.py#1075\u001b\\\u001b[2m1075\u001b[0m\u001b]8;;\u001b\\\n",
       "\u001b[2;36m                    \u001b[0m         BaseNotebookInstanceEc2InstanceRole                                \u001b[2m                   \u001b[0m\n"
      ]
     },
     "metadata": {},
     "output_type": "display_data"
    },
    {
     "name": "stdout",
     "output_type": "stream",
     "text": [
      "Training data uploaded to s3://sagemaker-us-east-1-100163808729/deployment/train/train.csv\n",
      "Validation data uploaded to s3://sagemaker-us-east-1-100163808729/deployment/validation/validation.csv\n"
     ]
    }
   ],
   "source": [
    "\n",
    "file_path = 's3://sagemaker-us-east-1-100163808729/mlflow/input-data/Employee.csv'  # Replace with your actual file path in S3 if needed\n",
    "employee_df = pd.read_csv(file_path)\n",
    "employee_df.head()\n",
    "\n",
    "# Convert categorical columns to numeric\n",
    "employee_df['Education'] = employee_df['Education'].astype('category').cat.codes\n",
    "employee_df['City'] = employee_df['City'].astype('category').cat.codes\n",
    "employee_df['Gender'] = employee_df['Gender'].astype('category').cat.codes\n",
    "employee_df['EverBenched'] = employee_df['EverBenched'].map({'Yes': 1, 'No': 0})\n",
    "\n",
    "# Drop rows with NaN values in the target column\n",
    "employee_df.dropna(subset=['LeaveOrNot'])\n",
    "\n",
    "# Convert target column to numeric if needed\n",
    "employee_df['LeaveOrNot'] = employee_df['LeaveOrNot'].astype(int)\n",
    "\n",
    "# Ensure no missing values in feature columns\n",
    "employee_df = employee_df.dropna()\n",
    "\n",
    "# Verify all columns are numeric\n",
    "print(employee_df.dtypes)\n",
    "\n",
    "# Define features and target\n",
    "feature_columns = [\n",
    "    'Education', 'JoiningYear', 'City', 'PaymentTier', 'Age',\n",
    "    'Gender', 'EverBenched', 'ExperienceInCurrentDomain'\n",
    "]\n",
    "target_column = 'LeaveOrNot'\n",
    "\n",
    "employee_df = employee_df[[target_column] + feature_columns]\n",
    "\n",
    "train_df, test_df = train_test_split(employee_df, test_size=0.2, random_state=42)\n",
    "\n",
    "# Display the transformed dataset\n",
    "employee_df.head()\n",
    "\n",
    "# Initialize S3 client\n",
    "s3 = boto3.client('s3')\n",
    "\n",
    "\n",
    "# Save the data locally first\n",
    "train_file = 'train.csv'\n",
    "validation_file = 'validation.csv'\n",
    "train_df.to_csv(train_file, index=False)\n",
    "test_df.to_csv(validation_file, index=False)\n",
    "\n",
    "# Upload the data to S3\n",
    "s3.upload_file(train_file, bucket, f'{prefix}/train/{train_file}')\n",
    "s3.upload_file(validation_file, bucket, f'{prefix}/validation/{validation_file}')\n",
    "\n",
    "print(f\"Training data uploaded to s3://{bucket}/{prefix}/train/{train_file}\")\n",
    "print(f\"Validation data uploaded to s3://{bucket}/{prefix}/validation/{validation_file}\")\n"
   ]
  },
  {
   "cell_type": "markdown",
   "id": "b216d810-fb58-477e-8dd6-c5313fdf65cc",
   "metadata": {},
   "source": [
    "# Create model"
   ]
  },
  {
   "cell_type": "code",
   "execution_count": null,
   "id": "65b0b2b5-35ed-41ec-b865-2c46cd46acb9",
   "metadata": {},
   "outputs": [
    {
     "data": {
      "text/html": [
       "<pre style=\"white-space:pre;overflow-x:auto;line-height:normal;font-family:Menlo,'DejaVu Sans Mono',consolas,'Courier New',monospace\"><span style=\"color: #7fbfbf; text-decoration-color: #7fbfbf\">                    </span><span style=\"color: #0069ff; text-decoration-color: #0069ff; font-weight: bold\">INFO    </span> Ignoring unnecessary instance type: <span style=\"color: #e100e1; text-decoration-color: #e100e1; font-style: italic\">None</span>.                            <a href=\"file:///home/ec2-user/anaconda3/envs/python3/lib/python3.10/site-packages/sagemaker/image_uris.py\" target=\"_blank\"><span style=\"color: #7f7f7f; text-decoration-color: #7f7f7f\">image_uris.py</span></a><span style=\"color: #7f7f7f; text-decoration-color: #7f7f7f\">:</span><a href=\"file:///home/ec2-user/anaconda3/envs/python3/lib/python3.10/site-packages/sagemaker/image_uris.py#528\" target=\"_blank\"><span style=\"color: #7f7f7f; text-decoration-color: #7f7f7f\">528</span></a>\n",
       "</pre>\n"
      ],
      "text/plain": [
       "\u001b[2;36m                   \u001b[0m\u001b[2;36m \u001b[0m\u001b[1;38;2;0;105;255mINFO    \u001b[0m Ignoring unnecessary instance type: \u001b[3;38;2;225;0;225mNone\u001b[0m.                            \u001b]8;id=155423;file:///home/ec2-user/anaconda3/envs/python3/lib/python3.10/site-packages/sagemaker/image_uris.py\u001b\\\u001b[2mimage_uris.py\u001b[0m\u001b]8;;\u001b\\\u001b[2m:\u001b[0m\u001b]8;id=416184;file:///home/ec2-user/anaconda3/envs/python3/lib/python3.10/site-packages/sagemaker/image_uris.py#528\u001b\\\u001b[2m528\u001b[0m\u001b]8;;\u001b\\\n"
      ]
     },
     "metadata": {},
     "output_type": "display_data"
    },
    {
     "data": {
      "text/html": [
       "<pre style=\"white-space:pre;overflow-x:auto;line-height:normal;font-family:Menlo,'DejaVu Sans Mono',consolas,'Courier New',monospace\"><span style=\"color: #7fbfbf; text-decoration-color: #7fbfbf\">                    </span><span style=\"color: #0069ff; text-decoration-color: #0069ff; font-weight: bold\">INFO    </span> SageMaker Python SDK will collect telemetry to help us better  <a href=\"file:///home/ec2-user/anaconda3/envs/python3/lib/python3.10/site-packages/sagemaker/telemetry/telemetry_logging.py\" target=\"_blank\"><span style=\"color: #7f7f7f; text-decoration-color: #7f7f7f\">telemetry_logging.py</span></a><span style=\"color: #7f7f7f; text-decoration-color: #7f7f7f\">:</span><a href=\"file:///home/ec2-user/anaconda3/envs/python3/lib/python3.10/site-packages/sagemaker/telemetry/telemetry_logging.py#90\" target=\"_blank\"><span style=\"color: #7f7f7f; text-decoration-color: #7f7f7f\">90</span></a>\n",
       "<span style=\"color: #7fbfbf; text-decoration-color: #7fbfbf\">                    </span>         understand our user's needs, diagnose issues, and deliver      <span style=\"color: #7f7f7f; text-decoration-color: #7f7f7f\">                       </span>\n",
       "<span style=\"color: #7fbfbf; text-decoration-color: #7fbfbf\">                    </span>         additional features.                                           <span style=\"color: #7f7f7f; text-decoration-color: #7f7f7f\">                       </span>\n",
       "<span style=\"color: #7fbfbf; text-decoration-color: #7fbfbf\">                    </span>         To opt out of telemetry, please disable via TelemetryOptOut    <span style=\"color: #7f7f7f; text-decoration-color: #7f7f7f\">                       </span>\n",
       "<span style=\"color: #7fbfbf; text-decoration-color: #7fbfbf\">                    </span>         parameter in SDK defaults config. For more information, refer  <span style=\"color: #7f7f7f; text-decoration-color: #7f7f7f\">                       </span>\n",
       "<span style=\"color: #7fbfbf; text-decoration-color: #7fbfbf\">                    </span>         to                                                             <span style=\"color: #7f7f7f; text-decoration-color: #7f7f7f\">                       </span>\n",
       "<span style=\"color: #7fbfbf; text-decoration-color: #7fbfbf\">                    </span>         <span style=\"color: #0069ff; text-decoration-color: #0069ff; text-decoration: underline\">https://sagemaker.readthedocs.io/en/stable/overview.html#confi</span> <span style=\"color: #7f7f7f; text-decoration-color: #7f7f7f\">                       </span>\n",
       "<span style=\"color: #7fbfbf; text-decoration-color: #7fbfbf\">                    </span>         <span style=\"color: #0069ff; text-decoration-color: #0069ff; text-decoration: underline\">guring-and-using-defaults-with-the-sagemaker-python-sdk.</span>       <span style=\"color: #7f7f7f; text-decoration-color: #7f7f7f\">                       </span>\n",
       "</pre>\n"
      ],
      "text/plain": [
       "\u001b[2;36m                   \u001b[0m\u001b[2;36m \u001b[0m\u001b[1;38;2;0;105;255mINFO    \u001b[0m SageMaker Python SDK will collect telemetry to help us better  \u001b]8;id=210591;file:///home/ec2-user/anaconda3/envs/python3/lib/python3.10/site-packages/sagemaker/telemetry/telemetry_logging.py\u001b\\\u001b[2mtelemetry_logging.py\u001b[0m\u001b]8;;\u001b\\\u001b[2m:\u001b[0m\u001b]8;id=355546;file:///home/ec2-user/anaconda3/envs/python3/lib/python3.10/site-packages/sagemaker/telemetry/telemetry_logging.py#90\u001b\\\u001b[2m90\u001b[0m\u001b]8;;\u001b\\\n",
       "\u001b[2;36m                    \u001b[0m         understand our user's needs, diagnose issues, and deliver      \u001b[2m                       \u001b[0m\n",
       "\u001b[2;36m                    \u001b[0m         additional features.                                           \u001b[2m                       \u001b[0m\n",
       "\u001b[2;36m                    \u001b[0m         To opt out of telemetry, please disable via TelemetryOptOut    \u001b[2m                       \u001b[0m\n",
       "\u001b[2;36m                    \u001b[0m         parameter in SDK defaults config. For more information, refer  \u001b[2m                       \u001b[0m\n",
       "\u001b[2;36m                    \u001b[0m         to                                                             \u001b[2m                       \u001b[0m\n",
       "\u001b[2;36m                    \u001b[0m         \u001b[4;38;2;0;105;255mhttps://sagemaker.readthedocs.io/en/stable/overview.html#confi\u001b[0m \u001b[2m                       \u001b[0m\n",
       "\u001b[2;36m                    \u001b[0m         \u001b[4;38;2;0;105;255mguring-and-using-defaults-with-the-sagemaker-python-sdk.\u001b[0m       \u001b[2m                       \u001b[0m\n"
      ]
     },
     "metadata": {},
     "output_type": "display_data"
    },
    {
     "data": {
      "text/html": [
       "<pre style=\"white-space:pre;overflow-x:auto;line-height:normal;font-family:Menlo,'DejaVu Sans Mono',consolas,'Courier New',monospace\"><span style=\"color: #7fbfbf; text-decoration-color: #7fbfbf\">                    </span><span style=\"color: #0069ff; text-decoration-color: #0069ff; font-weight: bold\">INFO    </span> Creating training-job with name:                                       <a href=\"file:///home/ec2-user/anaconda3/envs/python3/lib/python3.10/site-packages/sagemaker/session.py\" target=\"_blank\"><span style=\"color: #7f7f7f; text-decoration-color: #7f7f7f\">session.py</span></a><span style=\"color: #7f7f7f; text-decoration-color: #7f7f7f\">:</span><a href=\"file:///home/ec2-user/anaconda3/envs/python3/lib/python3.10/site-packages/sagemaker/session.py#1042\" target=\"_blank\"><span style=\"color: #7f7f7f; text-decoration-color: #7f7f7f\">1042</span></a>\n",
       "<span style=\"color: #7fbfbf; text-decoration-color: #7fbfbf\">                    </span>         sagemaker-xgboost-<span style=\"color: #008080; text-decoration-color: #008080; font-weight: bold\">2025</span>-02-12-08-39-40-947                              <span style=\"color: #7f7f7f; text-decoration-color: #7f7f7f\">               </span>\n",
       "</pre>\n"
      ],
      "text/plain": [
       "\u001b[2;36m                   \u001b[0m\u001b[2;36m \u001b[0m\u001b[1;38;2;0;105;255mINFO    \u001b[0m Creating training-job with name:                                       \u001b]8;id=872546;file:///home/ec2-user/anaconda3/envs/python3/lib/python3.10/site-packages/sagemaker/session.py\u001b\\\u001b[2msession.py\u001b[0m\u001b]8;;\u001b\\\u001b[2m:\u001b[0m\u001b]8;id=865429;file:///home/ec2-user/anaconda3/envs/python3/lib/python3.10/site-packages/sagemaker/session.py#1042\u001b\\\u001b[2m1042\u001b[0m\u001b]8;;\u001b\\\n",
       "\u001b[2;36m                    \u001b[0m         sagemaker-xgboost-\u001b[1;36m2025\u001b[0m-02-12-08-39-40-947                              \u001b[2m               \u001b[0m\n"
      ]
     },
     "metadata": {},
     "output_type": "display_data"
    },
    {
     "name": "stdout",
     "output_type": "stream",
     "text": [
      "2025-02-12 08:39:42 Starting - Starting the training job...\n",
      "..25-02-12 08:39:56 Starting - Preparing the instances for training.\n",
      "..25-02-12 08:40:39 Downloading - Downloading the training image.\n",
      ".\u001b[34m[2025-02-12 08:41:24.967 ip-10-0-92-218.ec2.internal:7 INFO utils.py:28] RULE_JOB_STOP_SIGNAL_FILENAME: None\u001b[0m\n",
      "\u001b[34m[2025-02-12 08:41:24.994 ip-10-0-92-218.ec2.internal:7 INFO profiler_config_parser.py:111] User has disabled profiler.\u001b[0m\n",
      "\u001b[34m[2025-02-12:08:41:24:INFO] Imported framework sagemaker_xgboost_container.training\u001b[0m\n",
      "\u001b[34m[2025-02-12:08:41:24:INFO] Failed to parse hyperparameter objective value binary:logistic to Json.\u001b[0m\n",
      "\u001b[34mReturning the value itself\u001b[0m\n",
      "\u001b[34m[2025-02-12:08:41:25:INFO] No GPUs detected (normal if no gpus installed)\u001b[0m\n",
      "\u001b[34m[2025-02-12:08:41:25:INFO] Running XGBoost Sagemaker in algorithm mode\u001b[0m\n",
      "\u001b[34m[2025-02-12:08:41:25:INFO] Determined delimiter of CSV input is ','\u001b[0m\n",
      "\u001b[34m[2025-02-12:08:41:25:INFO] Determined delimiter of CSV input is ','\u001b[0m\n",
      "\u001b[34m[2025-02-12:08:41:25:INFO] files path: /opt/ml/input/data/train\u001b[0m\n",
      "\u001b[34m[2025-02-12:08:41:25:INFO] Determined delimiter of CSV input is ','\u001b[0m\n",
      "\u001b[34m[2025-02-12:08:41:25:INFO] files path: /opt/ml/input/data/validation\u001b[0m\n",
      "\u001b[34m[2025-02-12:08:41:25:INFO] Determined delimiter of CSV input is ','\u001b[0m\n",
      "\u001b[34m[2025-02-12:08:41:25:INFO] Single node training.\u001b[0m\n",
      "\u001b[34m[2025-02-12:08:41:25:INFO] Train matrix has 3723 rows and 8 columns\u001b[0m\n",
      "\u001b[34m[2025-02-12:08:41:25:INFO] Validation matrix has 932 rows\u001b[0m\n",
      "\u001b[34m[2025-02-12 08:41:25.049 ip-10-0-92-218.ec2.internal:7 INFO json_config.py:92] Creating hook from json_config at /opt/ml/input/config/debughookconfig.json.\u001b[0m\n",
      "\u001b[34m[2025-02-12 08:41:25.050 ip-10-0-92-218.ec2.internal:7 INFO hook.py:207] tensorboard_dir has not been set for the hook. SMDebug will not be exporting tensorboard summaries.\u001b[0m\n",
      "\u001b[34m[2025-02-12 08:41:25.051 ip-10-0-92-218.ec2.internal:7 INFO hook.py:259] Saving to /opt/ml/output/tensors\u001b[0m\n",
      "\u001b[34m[2025-02-12 08:41:25.051 ip-10-0-92-218.ec2.internal:7 INFO state_store.py:77] The checkpoint config file /opt/ml/input/config/checkpointconfig.json does not exist.\u001b[0m\n",
      "\u001b[34m[2025-02-12:08:41:25:INFO] Debug hook created from config\u001b[0m\n",
      "\u001b[34m[08:41:25] WARNING: ../src/learner.cc:1061: Starting in XGBoost 1.3.0, the default evaluation metric used with the objective 'binary:logistic' was changed from 'error' to 'logloss'. Explicitly set eval_metric if you'd like to restore the old behavior.\u001b[0m\n",
      "\u001b[34m[2025-02-12 08:41:25.056 ip-10-0-92-218.ec2.internal:7 INFO hook.py:428] Monitoring the collections: metrics\u001b[0m\n",
      "\u001b[34m[2025-02-12 08:41:25.058 ip-10-0-92-218.ec2.internal:7 INFO hook.py:491] Hook is writing from the hook with pid: 7\u001b[0m\n",
      "\u001b[34m[0]#011train-logloss:0.61438#011validation-logloss:0.60751\u001b[0m\n",
      "\u001b[34m[1]#011train-logloss:0.55715#011validation-logloss:0.54619\u001b[0m\n",
      "\u001b[34m[2]#011train-logloss:0.51811#011validation-logloss:0.50401\u001b[0m\n",
      "\u001b[34m[3]#011train-logloss:0.49991#011validation-logloss:0.48395\u001b[0m\n",
      "\u001b[34m[4]#011train-logloss:0.48661#011validation-logloss:0.46905\u001b[0m\n",
      "\u001b[34m[5]#011train-logloss:0.46939#011validation-logloss:0.45047\u001b[0m\n",
      "\u001b[34m[6]#011train-logloss:0.46506#011validation-logloss:0.44522\u001b[0m\n",
      "\u001b[34m[7]#011train-logloss:0.45596#011validation-logloss:0.43293\u001b[0m\n",
      "\u001b[34m[8]#011train-logloss:0.45035#011validation-logloss:0.42719\u001b[0m\n",
      "\u001b[34m[9]#011train-logloss:0.44423#011validation-logloss:0.42068\u001b[0m\n",
      "\u001b[34m[10]#011train-logloss:0.44393#011validation-logloss:0.42025\u001b[0m\n",
      "\u001b[34m[11]#011train-logloss:0.44375#011validation-logloss:0.41998\u001b[0m\n",
      "\u001b[34m[12]#011train-logloss:0.44363#011validation-logloss:0.41976\u001b[0m\n",
      "\u001b[34m[13]#011train-logloss:0.44361#011validation-logloss:0.41970\u001b[0m\n",
      "\u001b[34m[14]#011train-logloss:0.44356#011validation-logloss:0.41959\u001b[0m\n",
      "\u001b[34m[15]#011train-logloss:0.44355#011validation-logloss:0.41955\u001b[0m\n",
      "\u001b[34m[16]#011train-logloss:0.44355#011validation-logloss:0.41956\u001b[0m\n",
      "\u001b[34m[17]#011train-logloss:0.43763#011validation-logloss:0.41146\u001b[0m\n",
      "\u001b[34m[18]#011train-logloss:0.43764#011validation-logloss:0.41148\u001b[0m\n",
      "\u001b[34m[19]#011train-logloss:0.43763#011validation-logloss:0.41146\u001b[0m\n",
      "\u001b[34m[20]#011train-logloss:0.43763#011validation-logloss:0.41145\u001b[0m\n",
      "\u001b[34m[21]#011train-logloss:0.43763#011validation-logloss:0.41146\u001b[0m\n",
      "\u001b[34m[22]#011train-logloss:0.43763#011validation-logloss:0.41146\u001b[0m\n",
      "\u001b[34m[23]#011train-logloss:0.43764#011validation-logloss:0.41148\u001b[0m\n",
      "\u001b[34m[24]#011train-logloss:0.43765#011validation-logloss:0.41151\u001b[0m\n",
      "\u001b[34m[25]#011train-logloss:0.43765#011validation-logloss:0.41151\u001b[0m\n",
      "\u001b[34m[26]#011train-logloss:0.43764#011validation-logloss:0.41148\u001b[0m\n",
      "\u001b[34m[27]#011train-logloss:0.43764#011validation-logloss:0.41149\u001b[0m\n",
      "\u001b[34m[28]#011train-logloss:0.43763#011validation-logloss:0.41145\u001b[0m\n",
      "\u001b[34m[29]#011train-logloss:0.43763#011validation-logloss:0.41144\u001b[0m\n",
      "\u001b[34m[30]#011train-logloss:0.43765#011validation-logloss:0.41151\u001b[0m\n",
      "\u001b[34m[31]#011train-logloss:0.43765#011validation-logloss:0.41152\u001b[0m\n",
      "\u001b[34m[32]#011train-logloss:0.43765#011validation-logloss:0.41153\u001b[0m\n",
      "\u001b[34m[33]#011train-logloss:0.43765#011validation-logloss:0.41152\u001b[0m\n",
      "\u001b[34m[34]#011train-logloss:0.43764#011validation-logloss:0.41151\u001b[0m\n",
      "\u001b[34m[35]#011train-logloss:0.43764#011validation-logloss:0.41149\u001b[0m\n",
      "\u001b[34m[36]#011train-logloss:0.43763#011validation-logloss:0.41145\u001b[0m\n",
      "\u001b[34m[37]#011train-logloss:0.43763#011validation-logloss:0.41144\u001b[0m\n",
      "\u001b[34m[38]#011train-logloss:0.43763#011validation-logloss:0.41143\u001b[0m\n",
      "\u001b[34m[39]#011train-logloss:0.43763#011validation-logloss:0.41141\u001b[0m\n",
      "\u001b[34m[40]#011train-logloss:0.43763#011validation-logloss:0.41144\u001b[0m\n",
      "\u001b[34m[41]#011train-logloss:0.43478#011validation-logloss:0.40798\u001b[0m\n",
      "\u001b[34m[42]#011train-logloss:0.43479#011validation-logloss:0.40803\u001b[0m\n",
      "\u001b[34m[43]#011train-logloss:0.43480#011validation-logloss:0.40804\u001b[0m\n",
      "\u001b[34m[44]#011train-logloss:0.43478#011validation-logloss:0.40800\u001b[0m\n",
      "\u001b[34m[45]#011train-logloss:0.43478#011validation-logloss:0.40799\u001b[0m\n",
      "\u001b[34m[46]#011train-logloss:0.43479#011validation-logloss:0.40801\u001b[0m\n",
      "\u001b[34m[47]#011train-logloss:0.43478#011validation-logloss:0.40799\u001b[0m\n",
      "\u001b[34m[48]#011train-logloss:0.43478#011validation-logloss:0.40799\u001b[0m\n",
      "\u001b[34m[49]#011train-logloss:0.43478#011validation-logloss:0.40797\u001b[0m\n",
      "\n",
      "2025-02-12 08:41:43 Uploading - Uploading generated training model\n",
      "2025-02-12 08:41:43 Completed - Training job completed\n",
      "Training seconds: 85\n",
      "Billable seconds: 85\n"
     ]
    }
   ],
   "source": [
    "# Setup XGBoost Estimator\n",
    "xgboost_container = sagemaker.image_uris.retrieve(\"xgboost\", boto3.Session().region_name, \"1.3-1\")\n",
    "\n",
    "hyperparameters = {\n",
    "    \"max_depth\":\"5\",\n",
    "    \"eta\":\"0.2\",\n",
    "    \"gamma\":\"40\",\n",
    "    \"min_child_weight\":\"6\",\n",
    "    \"subsample\":\"0.7\",\n",
    "    \"objective\":\"binary:logistic\",\n",
    "    \"num_round\":\"50\"\n",
    "}\n",
    "\n",
    "output_path = f's3://{bucket}/{prefix}/output'\n",
    "\n",
    "estimator = sagemaker.estimator.Estimator(\n",
    "    image_uri=xgboost_container, \n",
    "    hyperparameters=hyperparameters,\n",
    "    role=sagemaker.get_execution_role(),\n",
    "    instance_count=1, \n",
    "    instance_type='ml.m5.xlarge', \n",
    "    volume_size=5,  # 5 GB \n",
    "    output_path=output_path\n",
    ")\n",
    "\n",
    "# Define the data type and paths to the training and validation datasets\n",
    "content_type = \"csv\"\n",
    "train_input = TrainingInput(f\"s3://{bucket}/{prefix}/train/{train_file}\", content_type=content_type)\n",
    "validation_input = TrainingInput(f\"s3://{bucket}/{prefix}/validation/{validation_file}\", content_type=content_type)\n",
    "\n",
    "# Execute the XGBoost training job\n",
    "estimator.fit({'train': train_input, 'validation': validation_input})"
   ]
  },
  {
   "cell_type": "markdown",
   "id": "661c0ce3-f9a8-47ca-930b-f93c61eaf1d0",
   "metadata": {},
   "source": [
    "# Deployment type 1 - real-time endpoint"
   ]
  },
  {
   "cell_type": "code",
   "execution_count": 4,
   "id": "a801a9d7-0fbf-4fef-8d54-20912f72cfaf",
   "metadata": {},
   "outputs": [
    {
     "data": {
      "text/html": [
       "<pre style=\"white-space:pre;overflow-x:auto;line-height:normal;font-family:Menlo,'DejaVu Sans Mono',consolas,'Courier New',monospace\"><span style=\"color: #7fbfbf; text-decoration-color: #7fbfbf\">[02/12/25 08:42:21] </span><span style=\"color: #0069ff; text-decoration-color: #0069ff; font-weight: bold\">INFO    </span> Creating model with name: sagemaker-xgboost-<span style=\"color: #008080; text-decoration-color: #008080; font-weight: bold\">2025</span>-02-12-08-42-21-591    <a href=\"file:///home/ec2-user/anaconda3/envs/python3/lib/python3.10/site-packages/sagemaker/session.py\" target=\"_blank\"><span style=\"color: #7f7f7f; text-decoration-color: #7f7f7f\">session.py</span></a><span style=\"color: #7f7f7f; text-decoration-color: #7f7f7f\">:</span><a href=\"file:///home/ec2-user/anaconda3/envs/python3/lib/python3.10/site-packages/sagemaker/session.py#4094\" target=\"_blank\"><span style=\"color: #7f7f7f; text-decoration-color: #7f7f7f\">4094</span></a>\n",
       "</pre>\n"
      ],
      "text/plain": [
       "\u001b[2;36m[02/12/25 08:42:21]\u001b[0m\u001b[2;36m \u001b[0m\u001b[1;38;2;0;105;255mINFO    \u001b[0m Creating model with name: sagemaker-xgboost-\u001b[1;36m2025\u001b[0m-02-12-08-42-21-591    \u001b]8;id=570929;file:///home/ec2-user/anaconda3/envs/python3/lib/python3.10/site-packages/sagemaker/session.py\u001b\\\u001b[2msession.py\u001b[0m\u001b]8;;\u001b\\\u001b[2m:\u001b[0m\u001b]8;id=604312;file:///home/ec2-user/anaconda3/envs/python3/lib/python3.10/site-packages/sagemaker/session.py#4094\u001b\\\u001b[2m4094\u001b[0m\u001b]8;;\u001b\\\n"
      ]
     },
     "metadata": {},
     "output_type": "display_data"
    },
    {
     "data": {
      "text/html": [
       "<pre style=\"white-space:pre;overflow-x:auto;line-height:normal;font-family:Menlo,'DejaVu Sans Mono',consolas,'Courier New',monospace\"><span style=\"color: #7fbfbf; text-decoration-color: #7fbfbf\">[02/12/25 08:42:22] </span><span style=\"color: #0069ff; text-decoration-color: #0069ff; font-weight: bold\">INFO    </span> Creating endpoint-config with name employee-attrition-predictor-<span style=\"color: #008080; text-decoration-color: #008080; font-weight: bold\">3</span>      <a href=\"file:///home/ec2-user/anaconda3/envs/python3/lib/python3.10/site-packages/sagemaker/session.py\" target=\"_blank\"><span style=\"color: #7f7f7f; text-decoration-color: #7f7f7f\">session.py</span></a><span style=\"color: #7f7f7f; text-decoration-color: #7f7f7f\">:</span><a href=\"file:///home/ec2-user/anaconda3/envs/python3/lib/python3.10/site-packages/sagemaker/session.py#5889\" target=\"_blank\"><span style=\"color: #7f7f7f; text-decoration-color: #7f7f7f\">5889</span></a>\n",
       "</pre>\n"
      ],
      "text/plain": [
       "\u001b[2;36m[02/12/25 08:42:22]\u001b[0m\u001b[2;36m \u001b[0m\u001b[1;38;2;0;105;255mINFO    \u001b[0m Creating endpoint-config with name employee-attrition-predictor-\u001b[1;36m3\u001b[0m      \u001b]8;id=451035;file:///home/ec2-user/anaconda3/envs/python3/lib/python3.10/site-packages/sagemaker/session.py\u001b\\\u001b[2msession.py\u001b[0m\u001b]8;;\u001b\\\u001b[2m:\u001b[0m\u001b]8;id=292697;file:///home/ec2-user/anaconda3/envs/python3/lib/python3.10/site-packages/sagemaker/session.py#5889\u001b\\\u001b[2m5889\u001b[0m\u001b]8;;\u001b\\\n"
      ]
     },
     "metadata": {},
     "output_type": "display_data"
    },
    {
     "data": {
      "text/html": [
       "<pre style=\"white-space:pre;overflow-x:auto;line-height:normal;font-family:Menlo,'DejaVu Sans Mono',consolas,'Courier New',monospace\"><span style=\"color: #7fbfbf; text-decoration-color: #7fbfbf\">                    </span><span style=\"color: #0069ff; text-decoration-color: #0069ff; font-weight: bold\">INFO    </span> Creating endpoint with name employee-attrition-predictor-<span style=\"color: #008080; text-decoration-color: #008080; font-weight: bold\">3</span>             <a href=\"file:///home/ec2-user/anaconda3/envs/python3/lib/python3.10/site-packages/sagemaker/session.py\" target=\"_blank\"><span style=\"color: #7f7f7f; text-decoration-color: #7f7f7f\">session.py</span></a><span style=\"color: #7f7f7f; text-decoration-color: #7f7f7f\">:</span><a href=\"file:///home/ec2-user/anaconda3/envs/python3/lib/python3.10/site-packages/sagemaker/session.py#4711\" target=\"_blank\"><span style=\"color: #7f7f7f; text-decoration-color: #7f7f7f\">4711</span></a>\n",
       "</pre>\n"
      ],
      "text/plain": [
       "\u001b[2;36m                   \u001b[0m\u001b[2;36m \u001b[0m\u001b[1;38;2;0;105;255mINFO    \u001b[0m Creating endpoint with name employee-attrition-predictor-\u001b[1;36m3\u001b[0m             \u001b]8;id=265882;file:///home/ec2-user/anaconda3/envs/python3/lib/python3.10/site-packages/sagemaker/session.py\u001b\\\u001b[2msession.py\u001b[0m\u001b]8;;\u001b\\\u001b[2m:\u001b[0m\u001b]8;id=83473;file:///home/ec2-user/anaconda3/envs/python3/lib/python3.10/site-packages/sagemaker/session.py#4711\u001b\\\u001b[2m4711\u001b[0m\u001b]8;;\u001b\\\n"
      ]
     },
     "metadata": {},
     "output_type": "display_data"
    },
    {
     "name": "stdout",
     "output_type": "stream",
     "text": [
      "-----!<class 'sagemaker.base_predictor.Predictor'>\n"
     ]
    }
   ],
   "source": [
    "predictor = estimator.deploy(\n",
    "    initial_instance_count=1,  # Number of instances to deploy\n",
    "    instance_type='ml.m5.xlarge',  # Instance type for the endpoint\n",
    "    endpoint_name='employee-attrition-predictor-1'  # Name of the endpoint\n",
    ")\n",
    "\n",
    "print(type(predictor))"
   ]
  },
  {
   "cell_type": "markdown",
   "id": "5d2d425e-c612-4500-ab4d-70b83be5ef8b",
   "metadata": {},
   "source": [
    "# Predict using above endpoint"
   ]
  },
  {
   "cell_type": "code",
   "execution_count": 5,
   "id": "4aaced6e-deff-471c-97c1-f94e37e96ef1",
   "metadata": {},
   "outputs": [
    {
     "name": "stdout",
     "output_type": "stream",
     "text": [
      "{'predictions': [{'score': 0.20303820073604584}, {'score': 0.20303820073604584}, {'score': 0.3774380087852478}, {'score': 0.5340070128440857}, {'score': 0.1691509336233139}, {'score': 0.37122291326522827}, {'score': 0.6700358986854553}, {'score': 0.8091390132904053}, {'score': 0.1691509336233139}, {'score': 0.8091390132904053}, {'score': 0.1691509336233139}, {'score': 0.20303820073604584}, {'score': 0.9251188635826111}, {'score': 0.1691509336233139}, {'score': 0.35528063774108887}, {'score': 0.8091390132904053}, {'score': 0.1633274257183075}, {'score': 0.38120347261428833}, {'score': 0.36576730012893677}, {'score': 0.1691509336233139}]}\n",
      "{'predictions': [{'score': 0.20303820073604584}]}\n"
     ]
    },
    {
     "data": {
      "text/html": [
       "<pre style=\"white-space:pre;overflow-x:auto;line-height:normal;font-family:Menlo,'DejaVu Sans Mono',consolas,'Courier New',monospace\"><span style=\"color: #7fbfbf; text-decoration-color: #7fbfbf\">[02/12/25 08:45:23] </span><span style=\"color: #0069ff; text-decoration-color: #0069ff; font-weight: bold\">INFO    </span> Deleting endpoint configuration with name:                             <a href=\"file:///home/ec2-user/anaconda3/envs/python3/lib/python3.10/site-packages/sagemaker/session.py\" target=\"_blank\"><span style=\"color: #7f7f7f; text-decoration-color: #7f7f7f\">session.py</span></a><span style=\"color: #7f7f7f; text-decoration-color: #7f7f7f\">:</span><a href=\"file:///home/ec2-user/anaconda3/envs/python3/lib/python3.10/site-packages/sagemaker/session.py#4865\" target=\"_blank\"><span style=\"color: #7f7f7f; text-decoration-color: #7f7f7f\">4865</span></a>\n",
       "<span style=\"color: #7fbfbf; text-decoration-color: #7fbfbf\">                    </span>         employee-attrition-predictor-<span style=\"color: #008080; text-decoration-color: #008080; font-weight: bold\">3</span>                                         <span style=\"color: #7f7f7f; text-decoration-color: #7f7f7f\">               </span>\n",
       "</pre>\n"
      ],
      "text/plain": [
       "\u001b[2;36m[02/12/25 08:45:23]\u001b[0m\u001b[2;36m \u001b[0m\u001b[1;38;2;0;105;255mINFO    \u001b[0m Deleting endpoint configuration with name:                             \u001b]8;id=996293;file:///home/ec2-user/anaconda3/envs/python3/lib/python3.10/site-packages/sagemaker/session.py\u001b\\\u001b[2msession.py\u001b[0m\u001b]8;;\u001b\\\u001b[2m:\u001b[0m\u001b]8;id=250690;file:///home/ec2-user/anaconda3/envs/python3/lib/python3.10/site-packages/sagemaker/session.py#4865\u001b\\\u001b[2m4865\u001b[0m\u001b]8;;\u001b\\\n",
       "\u001b[2;36m                    \u001b[0m         employee-attrition-predictor-\u001b[1;36m3\u001b[0m                                         \u001b[2m               \u001b[0m\n"
      ]
     },
     "metadata": {},
     "output_type": "display_data"
    },
    {
     "data": {
      "text/html": [
       "<pre style=\"white-space:pre;overflow-x:auto;line-height:normal;font-family:Menlo,'DejaVu Sans Mono',consolas,'Courier New',monospace\"><span style=\"color: #7fbfbf; text-decoration-color: #7fbfbf\">                    </span><span style=\"color: #0069ff; text-decoration-color: #0069ff; font-weight: bold\">INFO    </span> Deleting endpoint with name: employee-attrition-predictor-<span style=\"color: #008080; text-decoration-color: #008080; font-weight: bold\">3</span>            <a href=\"file:///home/ec2-user/anaconda3/envs/python3/lib/python3.10/site-packages/sagemaker/session.py\" target=\"_blank\"><span style=\"color: #7f7f7f; text-decoration-color: #7f7f7f\">session.py</span></a><span style=\"color: #7f7f7f; text-decoration-color: #7f7f7f\">:</span><a href=\"file:///home/ec2-user/anaconda3/envs/python3/lib/python3.10/site-packages/sagemaker/session.py#4855\" target=\"_blank\"><span style=\"color: #7f7f7f; text-decoration-color: #7f7f7f\">4855</span></a>\n",
       "</pre>\n"
      ],
      "text/plain": [
       "\u001b[2;36m                   \u001b[0m\u001b[2;36m \u001b[0m\u001b[1;38;2;0;105;255mINFO    \u001b[0m Deleting endpoint with name: employee-attrition-predictor-\u001b[1;36m3\u001b[0m            \u001b]8;id=726053;file:///home/ec2-user/anaconda3/envs/python3/lib/python3.10/site-packages/sagemaker/session.py\u001b\\\u001b[2msession.py\u001b[0m\u001b]8;;\u001b\\\u001b[2m:\u001b[0m\u001b]8;id=815890;file:///home/ec2-user/anaconda3/envs/python3/lib/python3.10/site-packages/sagemaker/session.py#4855\u001b\\\u001b[2m4855\u001b[0m\u001b]8;;\u001b\\\n"
      ]
     },
     "metadata": {},
     "output_type": "display_data"
    }
   ],
   "source": [
    "# Predictions for a batch of records\n",
    "\n",
    "predictor.serializer = sagemaker.serializers.CSVSerializer()\n",
    "predictor.deserializer = sagemaker.deserializers.JSONDeserializer()\n",
    "\n",
    "# Example input data (in the same format as your training data)\n",
    "# Assuming 'LeaveOrNot' is the target column\n",
    "features_df = test_df.drop(columns=['LeaveOrNot'])\n",
    "\n",
    "# Convert the features DataFrame to CSV format\n",
    "test_csv = features_df.to_csv(index=False, header=False).strip()\n",
    "test_data = test_df[feature_columns].head(20)  # Select the first row of test data for prediction\n",
    "test_data_csv = test_data.to_csv(index=False, header=False).strip()  # Convert to CSV format\n",
    "\n",
    "# Invoke the endpoint\n",
    "response = predictor.predict(test_data_csv)\n",
    "print(response)  # The response will be in JSON format, containing the predicted label\n",
    "\n",
    "# Predictions for a single record\n",
    "test_data = test_df[feature_columns].head(1)  # Select the first row of test data for prediction\n",
    "test_data_csv = test_data.to_csv(index=False, header=False).strip()  # Convert to CSV format\n",
    "\n",
    "# Invoke the endpoint\n",
    "response = predictor.predict(test_data_csv)\n",
    "print(response)  # The response will be in JSON format, containing the predicted label\n",
    "\n",
    "# Delete the endpoint when no longer needed\n",
    "predictor.delete_endpoint()"
   ]
  },
  {
   "cell_type": "markdown",
   "id": "688b5445-06b4-44d2-a1e8-d803ac0963cc",
   "metadata": {},
   "source": [
    "# Deployment type 2 - real-time endpoint but using pre-built model"
   ]
  },
  {
   "cell_type": "code",
   "execution_count": 10,
   "id": "64e9274c-f3a4-430e-8420-05f6ee342364",
   "metadata": {},
   "outputs": [
    {
     "data": {
      "text/html": [
       "<pre style=\"white-space:pre;overflow-x:auto;line-height:normal;font-family:Menlo,'DejaVu Sans Mono',consolas,'Courier New',monospace\"><span style=\"color: #7fbfbf; text-decoration-color: #7fbfbf\">[02/12/25 10:01:52] </span><span style=\"color: #0069ff; text-decoration-color: #0069ff; font-weight: bold\">INFO    </span> Creating model with name: sagemaker-xgboost-<span style=\"color: #008080; text-decoration-color: #008080; font-weight: bold\">2025</span>-02-12-10-01-52-350    <a href=\"file:///home/ec2-user/anaconda3/envs/python3/lib/python3.10/site-packages/sagemaker/session.py\" target=\"_blank\"><span style=\"color: #7f7f7f; text-decoration-color: #7f7f7f\">session.py</span></a><span style=\"color: #7f7f7f; text-decoration-color: #7f7f7f\">:</span><a href=\"file:///home/ec2-user/anaconda3/envs/python3/lib/python3.10/site-packages/sagemaker/session.py#4094\" target=\"_blank\"><span style=\"color: #7f7f7f; text-decoration-color: #7f7f7f\">4094</span></a>\n",
       "</pre>\n"
      ],
      "text/plain": [
       "\u001b[2;36m[02/12/25 10:01:52]\u001b[0m\u001b[2;36m \u001b[0m\u001b[1;38;2;0;105;255mINFO    \u001b[0m Creating model with name: sagemaker-xgboost-\u001b[1;36m2025\u001b[0m-02-12-10-01-52-350    \u001b]8;id=99240;file:///home/ec2-user/anaconda3/envs/python3/lib/python3.10/site-packages/sagemaker/session.py\u001b\\\u001b[2msession.py\u001b[0m\u001b]8;;\u001b\\\u001b[2m:\u001b[0m\u001b]8;id=567844;file:///home/ec2-user/anaconda3/envs/python3/lib/python3.10/site-packages/sagemaker/session.py#4094\u001b\\\u001b[2m4094\u001b[0m\u001b]8;;\u001b\\\n"
      ]
     },
     "metadata": {},
     "output_type": "display_data"
    },
    {
     "data": {
      "text/html": [
       "<pre style=\"white-space:pre;overflow-x:auto;line-height:normal;font-family:Menlo,'DejaVu Sans Mono',consolas,'Courier New',monospace\"><span style=\"color: #7fbfbf; text-decoration-color: #7fbfbf\">                    </span><span style=\"color: #0069ff; text-decoration-color: #0069ff; font-weight: bold\">INFO    </span> Creating endpoint-config with name employee-attrition-predictor-<span style=\"color: #008080; text-decoration-color: #008080; font-weight: bold\">5</span>      <a href=\"file:///home/ec2-user/anaconda3/envs/python3/lib/python3.10/site-packages/sagemaker/session.py\" target=\"_blank\"><span style=\"color: #7f7f7f; text-decoration-color: #7f7f7f\">session.py</span></a><span style=\"color: #7f7f7f; text-decoration-color: #7f7f7f\">:</span><a href=\"file:///home/ec2-user/anaconda3/envs/python3/lib/python3.10/site-packages/sagemaker/session.py#5889\" target=\"_blank\"><span style=\"color: #7f7f7f; text-decoration-color: #7f7f7f\">5889</span></a>\n",
       "</pre>\n"
      ],
      "text/plain": [
       "\u001b[2;36m                   \u001b[0m\u001b[2;36m \u001b[0m\u001b[1;38;2;0;105;255mINFO    \u001b[0m Creating endpoint-config with name employee-attrition-predictor-\u001b[1;36m5\u001b[0m      \u001b]8;id=95722;file:///home/ec2-user/anaconda3/envs/python3/lib/python3.10/site-packages/sagemaker/session.py\u001b\\\u001b[2msession.py\u001b[0m\u001b]8;;\u001b\\\u001b[2m:\u001b[0m\u001b]8;id=506397;file:///home/ec2-user/anaconda3/envs/python3/lib/python3.10/site-packages/sagemaker/session.py#5889\u001b\\\u001b[2m5889\u001b[0m\u001b]8;;\u001b\\\n"
      ]
     },
     "metadata": {},
     "output_type": "display_data"
    },
    {
     "data": {
      "text/html": [
       "<pre style=\"white-space:pre;overflow-x:auto;line-height:normal;font-family:Menlo,'DejaVu Sans Mono',consolas,'Courier New',monospace\"><span style=\"color: #7fbfbf; text-decoration-color: #7fbfbf\">[02/12/25 10:01:53] </span><span style=\"color: #0069ff; text-decoration-color: #0069ff; font-weight: bold\">INFO    </span> Creating endpoint with name employee-attrition-predictor-<span style=\"color: #008080; text-decoration-color: #008080; font-weight: bold\">5</span>             <a href=\"file:///home/ec2-user/anaconda3/envs/python3/lib/python3.10/site-packages/sagemaker/session.py\" target=\"_blank\"><span style=\"color: #7f7f7f; text-decoration-color: #7f7f7f\">session.py</span></a><span style=\"color: #7f7f7f; text-decoration-color: #7f7f7f\">:</span><a href=\"file:///home/ec2-user/anaconda3/envs/python3/lib/python3.10/site-packages/sagemaker/session.py#4711\" target=\"_blank\"><span style=\"color: #7f7f7f; text-decoration-color: #7f7f7f\">4711</span></a>\n",
       "</pre>\n"
      ],
      "text/plain": [
       "\u001b[2;36m[02/12/25 10:01:53]\u001b[0m\u001b[2;36m \u001b[0m\u001b[1;38;2;0;105;255mINFO    \u001b[0m Creating endpoint with name employee-attrition-predictor-\u001b[1;36m5\u001b[0m             \u001b]8;id=617928;file:///home/ec2-user/anaconda3/envs/python3/lib/python3.10/site-packages/sagemaker/session.py\u001b\\\u001b[2msession.py\u001b[0m\u001b]8;;\u001b\\\u001b[2m:\u001b[0m\u001b]8;id=739423;file:///home/ec2-user/anaconda3/envs/python3/lib/python3.10/site-packages/sagemaker/session.py#4711\u001b\\\u001b[2m4711\u001b[0m\u001b]8;;\u001b\\\n"
      ]
     },
     "metadata": {},
     "output_type": "display_data"
    },
    {
     "name": "stdout",
     "output_type": "stream",
     "text": [
      "------!<class 'sagemaker.model.Model'>\n",
      "<class 'NoneType'>\n"
     ]
    }
   ],
   "source": [
    "from sagemaker.model import Model\n",
    "\n",
    "# Specify the S3 path to the pre-trained model artifact\n",
    "model_artifact = \"s3://sagemaker-us-east-1-100163808729/deployment/output/sagemaker-xgboost-2025-02-12-06-57-40-558/output/model.tar.gz\"\n",
    "\n",
    "# Retrieve the container image for the framework (e.g., XGBoost)\n",
    "container = sagemaker.image_uris.retrieve(framework=\"xgboost\", region=boto3.Session().region_name, version=\"1.3-1\")\n",
    "\n",
    "# Create the model object using the S3 path\n",
    "model = Model(\n",
    "    image_uri=container,\n",
    "    model_data=model_artifact,\n",
    "    role=sagemaker.get_execution_role()\n",
    ")\n",
    "\n",
    "# Deploy the model as a real-time endpoint\n",
    "predictor = model.deploy(\n",
    "    initial_instance_count=1,  # Number of instances\n",
    "    instance_type='ml.m5.xlarge',  # Instance type\n",
    "    endpoint_name='employee-attrition-predictor-2'  # Name of the endpoint\n",
    ")\n",
    "\n",
    "print(type(model))\n",
    "print(type(predictor))"
   ]
  },
  {
   "cell_type": "markdown",
   "id": "32c7f651-8e7a-4d1f-9da9-13141d72fa41",
   "metadata": {},
   "source": [
    "# Predict using above endpoint"
   ]
  },
  {
   "cell_type": "code",
   "execution_count": 11,
   "id": "1a047f25-b873-4520-894b-a69d01238316",
   "metadata": {},
   "outputs": [
    {
     "name": "stdout",
     "output_type": "stream",
     "text": [
      "0.20303820073604584\n",
      "0.20303820073604584\n",
      "0.3774380087852478\n",
      "0.5340070128440857\n",
      "0.1691509336233139\n",
      "0.37122291326522827\n",
      "0.6700358986854553\n",
      "0.8091390132904053\n",
      "0.1691509336233139\n",
      "0.8091390132904053\n",
      "0.1691509336233139\n",
      "0.20303820073604584\n",
      "0.9251188635826111\n",
      "0.1691509336233139\n",
      "0.35528063774108887\n",
      "0.8091390132904053\n",
      "0.1633274257183075\n",
      "0.38120347261428833\n",
      "0.36576730012893677\n",
      "0.1691509336233139\n",
      "0.1691509336233139\n",
      "0.40060654282569885\n",
      "0.7384953498840332\n",
      "0.20303820073604584\n",
      "0.3876122534275055\n",
      "\n"
     ]
    }
   ],
   "source": [
    "# Note that, here we are not using the predictor.predict() method, because predictor is of class NoneType and we are unable to invoke methods\n",
    "# we are using the sagemeker-runtime.invoke_endpoint method instead\n",
    "\n",
    "import boto3\n",
    "\n",
    "# Initialize the SageMaker runtime client\n",
    "runtime_client = boto3.client('sagemaker-runtime')\n",
    "\n",
    "# Specify the endpoint name\n",
    "endpoint_name = 'employee-attrition-predictor-5'\n",
    "\n",
    "# Prepare your input data (same format as before)\n",
    "test_data = test_df[feature_columns].head(25)  # Select the first row of test data for prediction\n",
    "test_data_csv = test_data.to_csv(index=False, header=False).strip()  # Convert to CSV format\n",
    "\n",
    "# Invoke the endpoint directly using the runtime client\n",
    "response = runtime_client.invoke_endpoint(\n",
    "    EndpointName=endpoint_name,\n",
    "    ContentType=\"text/csv\",  # Specify the content type\n",
    "    Body=test_data_csv  # The input data as a CSV string\n",
    ")\n",
    "\n",
    "# Parse the response\n",
    "result = response['Body'].read().decode('utf-8')\n",
    "print(result)"
   ]
  },
  {
   "cell_type": "markdown",
   "id": "cf9d331d-feae-4664-9dc1-a43440e55081",
   "metadata": {},
   "source": [
    "# Deployment Type 3 - serverless endpoint"
   ]
  },
  {
   "cell_type": "code",
   "execution_count": 16,
   "id": "4e0c8842-90d3-482b-90bf-c10d6c481fec",
   "metadata": {},
   "outputs": [
    {
     "data": {
      "text/html": [
       "<pre style=\"white-space:pre;overflow-x:auto;line-height:normal;font-family:Menlo,'DejaVu Sans Mono',consolas,'Courier New',monospace\"><span style=\"color: #7fbfbf; text-decoration-color: #7fbfbf\">[02/12/25 10:21:38] </span><span style=\"color: #0069ff; text-decoration-color: #0069ff; font-weight: bold\">INFO    </span> Ignoring unnecessary instance type: <span style=\"color: #e100e1; text-decoration-color: #e100e1; font-style: italic\">None</span>.                            <a href=\"file:///home/ec2-user/anaconda3/envs/python3/lib/python3.10/site-packages/sagemaker/image_uris.py\" target=\"_blank\"><span style=\"color: #7f7f7f; text-decoration-color: #7f7f7f\">image_uris.py</span></a><span style=\"color: #7f7f7f; text-decoration-color: #7f7f7f\">:</span><a href=\"file:///home/ec2-user/anaconda3/envs/python3/lib/python3.10/site-packages/sagemaker/image_uris.py#528\" target=\"_blank\"><span style=\"color: #7f7f7f; text-decoration-color: #7f7f7f\">528</span></a>\n",
       "</pre>\n"
      ],
      "text/plain": [
       "\u001b[2;36m[02/12/25 10:21:38]\u001b[0m\u001b[2;36m \u001b[0m\u001b[1;38;2;0;105;255mINFO    \u001b[0m Ignoring unnecessary instance type: \u001b[3;38;2;225;0;225mNone\u001b[0m.                            \u001b]8;id=915368;file:///home/ec2-user/anaconda3/envs/python3/lib/python3.10/site-packages/sagemaker/image_uris.py\u001b\\\u001b[2mimage_uris.py\u001b[0m\u001b]8;;\u001b\\\u001b[2m:\u001b[0m\u001b]8;id=649090;file:///home/ec2-user/anaconda3/envs/python3/lib/python3.10/site-packages/sagemaker/image_uris.py#528\u001b\\\u001b[2m528\u001b[0m\u001b]8;;\u001b\\\n"
      ]
     },
     "metadata": {},
     "output_type": "display_data"
    },
    {
     "data": {
      "text/html": [
       "<pre style=\"white-space:pre;overflow-x:auto;line-height:normal;font-family:Menlo,'DejaVu Sans Mono',consolas,'Courier New',monospace\"><span style=\"color: #7fbfbf; text-decoration-color: #7fbfbf\">                    </span><span style=\"color: #0069ff; text-decoration-color: #0069ff; font-weight: bold\">INFO    </span> Creating model with name: sagemaker-xgboost-<span style=\"color: #008080; text-decoration-color: #008080; font-weight: bold\">2025</span>-02-12-10-21-38-862    <a href=\"file:///home/ec2-user/anaconda3/envs/python3/lib/python3.10/site-packages/sagemaker/session.py\" target=\"_blank\"><span style=\"color: #7f7f7f; text-decoration-color: #7f7f7f\">session.py</span></a><span style=\"color: #7f7f7f; text-decoration-color: #7f7f7f\">:</span><a href=\"file:///home/ec2-user/anaconda3/envs/python3/lib/python3.10/site-packages/sagemaker/session.py#4094\" target=\"_blank\"><span style=\"color: #7f7f7f; text-decoration-color: #7f7f7f\">4094</span></a>\n",
       "</pre>\n"
      ],
      "text/plain": [
       "\u001b[2;36m                   \u001b[0m\u001b[2;36m \u001b[0m\u001b[1;38;2;0;105;255mINFO    \u001b[0m Creating model with name: sagemaker-xgboost-\u001b[1;36m2025\u001b[0m-02-12-10-21-38-862    \u001b]8;id=649027;file:///home/ec2-user/anaconda3/envs/python3/lib/python3.10/site-packages/sagemaker/session.py\u001b\\\u001b[2msession.py\u001b[0m\u001b]8;;\u001b\\\u001b[2m:\u001b[0m\u001b]8;id=440018;file:///home/ec2-user/anaconda3/envs/python3/lib/python3.10/site-packages/sagemaker/session.py#4094\u001b\\\u001b[2m4094\u001b[0m\u001b]8;;\u001b\\\n"
      ]
     },
     "metadata": {},
     "output_type": "display_data"
    },
    {
     "data": {
      "text/html": [
       "<pre style=\"white-space:pre;overflow-x:auto;line-height:normal;font-family:Menlo,'DejaVu Sans Mono',consolas,'Courier New',monospace\"><span style=\"color: #7fbfbf; text-decoration-color: #7fbfbf\">[02/12/25 10:21:39] </span><span style=\"color: #0069ff; text-decoration-color: #0069ff; font-weight: bold\">INFO    </span> Creating endpoint-config with name employee-attrition-serverless-<span style=\"color: #008080; text-decoration-color: #008080; font-weight: bold\">1</span>     <a href=\"file:///home/ec2-user/anaconda3/envs/python3/lib/python3.10/site-packages/sagemaker/session.py\" target=\"_blank\"><span style=\"color: #7f7f7f; text-decoration-color: #7f7f7f\">session.py</span></a><span style=\"color: #7f7f7f; text-decoration-color: #7f7f7f\">:</span><a href=\"file:///home/ec2-user/anaconda3/envs/python3/lib/python3.10/site-packages/sagemaker/session.py#5889\" target=\"_blank\"><span style=\"color: #7f7f7f; text-decoration-color: #7f7f7f\">5889</span></a>\n",
       "</pre>\n"
      ],
      "text/plain": [
       "\u001b[2;36m[02/12/25 10:21:39]\u001b[0m\u001b[2;36m \u001b[0m\u001b[1;38;2;0;105;255mINFO    \u001b[0m Creating endpoint-config with name employee-attrition-serverless-\u001b[1;36m1\u001b[0m     \u001b]8;id=39383;file:///home/ec2-user/anaconda3/envs/python3/lib/python3.10/site-packages/sagemaker/session.py\u001b\\\u001b[2msession.py\u001b[0m\u001b]8;;\u001b\\\u001b[2m:\u001b[0m\u001b]8;id=318894;file:///home/ec2-user/anaconda3/envs/python3/lib/python3.10/site-packages/sagemaker/session.py#5889\u001b\\\u001b[2m5889\u001b[0m\u001b]8;;\u001b\\\n"
      ]
     },
     "metadata": {},
     "output_type": "display_data"
    },
    {
     "data": {
      "text/html": [
       "<pre style=\"white-space:pre;overflow-x:auto;line-height:normal;font-family:Menlo,'DejaVu Sans Mono',consolas,'Courier New',monospace\"><span style=\"color: #7fbfbf; text-decoration-color: #7fbfbf\">                    </span><span style=\"color: #0069ff; text-decoration-color: #0069ff; font-weight: bold\">INFO    </span> Creating endpoint with name employee-attrition-serverless-<span style=\"color: #008080; text-decoration-color: #008080; font-weight: bold\">1</span>            <a href=\"file:///home/ec2-user/anaconda3/envs/python3/lib/python3.10/site-packages/sagemaker/session.py\" target=\"_blank\"><span style=\"color: #7f7f7f; text-decoration-color: #7f7f7f\">session.py</span></a><span style=\"color: #7f7f7f; text-decoration-color: #7f7f7f\">:</span><a href=\"file:///home/ec2-user/anaconda3/envs/python3/lib/python3.10/site-packages/sagemaker/session.py#4711\" target=\"_blank\"><span style=\"color: #7f7f7f; text-decoration-color: #7f7f7f\">4711</span></a>\n",
       "</pre>\n"
      ],
      "text/plain": [
       "\u001b[2;36m                   \u001b[0m\u001b[2;36m \u001b[0m\u001b[1;38;2;0;105;255mINFO    \u001b[0m Creating endpoint with name employee-attrition-serverless-\u001b[1;36m1\u001b[0m            \u001b]8;id=634789;file:///home/ec2-user/anaconda3/envs/python3/lib/python3.10/site-packages/sagemaker/session.py\u001b\\\u001b[2msession.py\u001b[0m\u001b]8;;\u001b\\\u001b[2m:\u001b[0m\u001b]8;id=991628;file:///home/ec2-user/anaconda3/envs/python3/lib/python3.10/site-packages/sagemaker/session.py#4711\u001b\\\u001b[2m4711\u001b[0m\u001b]8;;\u001b\\\n"
      ]
     },
     "metadata": {},
     "output_type": "display_data"
    },
    {
     "name": "stdout",
     "output_type": "stream",
     "text": [
      "----!"
     ]
    }
   ],
   "source": [
    "import boto3\n",
    "from sagemaker.model import Model\n",
    "from sagemaker.serverless import ServerlessInferenceConfig\n",
    "from sagemaker import get_execution_role\n",
    "\n",
    "model_artifact = \"s3://sagemaker-us-east-1-100163808729/deployment/output/sagemaker-xgboost-2025-02-12-06-57-40-558/output/model.tar.gz\"\n",
    "container = sagemaker.image_uris.retrieve(framework=\"xgboost\", region=boto3.Session().region_name, version=\"1.3-1\")\n",
    "\n",
    "# Create the model object using the S3 path\n",
    "model = Model(\n",
    "    image_uri=container,\n",
    "    model_data=model_artifact,\n",
    "    role=get_execution_role()\n",
    ")\n",
    "\n",
    "# Define the Serverless Inference configuration\n",
    "serverless_inference_config = ServerlessInferenceConfig(\n",
    "    memory_size_in_mb=2048,  # Allocate memory\n",
    "    max_concurrency=5  # Max concurrent invocations\n",
    ")\n",
    "\n",
    "# Deploy the model as a serverless endpoint\n",
    "serverless_predictor = model.deploy(\n",
    "    serverless_inference_config=serverless_inference_config,\n",
    "    endpoint_name='employee-attrition-serverless-1'\n",
    ")"
   ]
  },
  {
   "cell_type": "markdown",
   "id": "0fac8a85-73c5-454a-9e81-3bc5e14a8406",
   "metadata": {},
   "source": [
    "# Predict using above endpoint"
   ]
  },
  {
   "cell_type": "code",
   "execution_count": 19,
   "id": "838977e7-4ebd-40eb-8411-599445f00164",
   "metadata": {},
   "outputs": [
    {
     "name": "stdout",
     "output_type": "stream",
     "text": [
      "0.20303820073604584\n",
      "0.20303820073604584\n",
      "0.3774380087852478\n",
      "0.5340070128440857\n",
      "0.1691509336233139\n",
      "0.37122291326522827\n",
      "0.6700358986854553\n",
      "0.8091390132904053\n",
      "0.1691509336233139\n",
      "0.8091390132904053\n",
      "0.1691509336233139\n",
      "0.20303820073604584\n",
      "0.9251188635826111\n",
      "0.1691509336233139\n",
      "0.35528063774108887\n",
      "0.8091390132904053\n",
      "0.1633274257183075\n",
      "0.38120347261428833\n",
      "0.36576730012893677\n",
      "0.1691509336233139\n",
      "0.1691509336233139\n",
      "0.40060654282569885\n",
      "0.7384953498840332\n",
      "0.20303820073604584\n",
      "0.3876122534275055\n",
      "\n"
     ]
    }
   ],
   "source": [
    "import boto3\n",
    "\n",
    "# Initialize the SageMaker runtime client\n",
    "runtime_client = boto3.client('sagemaker-runtime')\n",
    "\n",
    "# Specify the endpoint name\n",
    "endpoint_name = 'employee-attrition-serverless-1'\n",
    "\n",
    "# Prepare your input data (same format as before)\n",
    "test_data = test_df[feature_columns].head(25)  # Select the first row of test data for prediction\n",
    "test_data_csv = test_data.to_csv(index=False, header=False).strip()  # Convert to CSV format\n",
    "\n",
    "# Invoke the endpoint directly using the runtime client\n",
    "response = runtime_client.invoke_endpoint(\n",
    "    EndpointName=endpoint_name,\n",
    "    ContentType=\"text/csv\",  # Specify the content type\n",
    "    Body=test_data_csv  # The input data as a CSV string\n",
    ")\n",
    "\n",
    "# Parse the response\n",
    "result = response['Body'].read().decode('utf-8')\n",
    "print(result)\n",
    "\n",
    "# Note, this did not work as well because predictor is of class NoneType\n",
    "# delete manually from UI\n",
    "\n",
    "# Delete the endpoint when no longer needed\n",
    "# predictor.delete_endpoint()"
   ]
  },
  {
   "cell_type": "markdown",
   "id": "8634ad02-ef4c-4fae-bd28-098dd86d6906",
   "metadata": {},
   "source": [
    "# Deployment Type 4 - batch transform"
   ]
  },
  {
   "cell_type": "code",
   "execution_count": 39,
   "id": "5f2c7fb4-9870-454c-9179-ab811264ca72",
   "metadata": {},
   "outputs": [
    {
     "data": {
      "text/html": [
       "<pre style=\"white-space:pre;overflow-x:auto;line-height:normal;font-family:Menlo,'DejaVu Sans Mono',consolas,'Courier New',monospace\"><span style=\"color: #7fbfbf; text-decoration-color: #7fbfbf\">[02/12/25 13:22:34] </span><span style=\"color: #0069ff; text-decoration-color: #0069ff; font-weight: bold\">INFO    </span> Ignoring unnecessary instance type: <span style=\"color: #e100e1; text-decoration-color: #e100e1; font-style: italic\">None</span>.                            <a href=\"file:///home/ec2-user/anaconda3/envs/python3/lib/python3.10/site-packages/sagemaker/image_uris.py\" target=\"_blank\"><span style=\"color: #7f7f7f; text-decoration-color: #7f7f7f\">image_uris.py</span></a><span style=\"color: #7f7f7f; text-decoration-color: #7f7f7f\">:</span><a href=\"file:///home/ec2-user/anaconda3/envs/python3/lib/python3.10/site-packages/sagemaker/image_uris.py#528\" target=\"_blank\"><span style=\"color: #7f7f7f; text-decoration-color: #7f7f7f\">528</span></a>\n",
       "</pre>\n"
      ],
      "text/plain": [
       "\u001b[2;36m[02/12/25 13:22:34]\u001b[0m\u001b[2;36m \u001b[0m\u001b[1;38;2;0;105;255mINFO    \u001b[0m Ignoring unnecessary instance type: \u001b[3;38;2;225;0;225mNone\u001b[0m.                            \u001b]8;id=127579;file:///home/ec2-user/anaconda3/envs/python3/lib/python3.10/site-packages/sagemaker/image_uris.py\u001b\\\u001b[2mimage_uris.py\u001b[0m\u001b]8;;\u001b\\\u001b[2m:\u001b[0m\u001b]8;id=66894;file:///home/ec2-user/anaconda3/envs/python3/lib/python3.10/site-packages/sagemaker/image_uris.py#528\u001b\\\u001b[2m528\u001b[0m\u001b]8;;\u001b\\\n"
      ]
     },
     "metadata": {},
     "output_type": "display_data"
    },
    {
     "data": {
      "text/html": [
       "<pre style=\"white-space:pre;overflow-x:auto;line-height:normal;font-family:Menlo,'DejaVu Sans Mono',consolas,'Courier New',monospace\"><span style=\"color: #7fbfbf; text-decoration-color: #7fbfbf\">                    </span><span style=\"color: #0069ff; text-decoration-color: #0069ff; font-weight: bold\">INFO    </span> Creating model with name: sagemaker-xgboost-<span style=\"color: #008080; text-decoration-color: #008080; font-weight: bold\">2025</span>-02-12-13-22-34-619    <a href=\"file:///home/ec2-user/anaconda3/envs/python3/lib/python3.10/site-packages/sagemaker/session.py\" target=\"_blank\"><span style=\"color: #7f7f7f; text-decoration-color: #7f7f7f\">session.py</span></a><span style=\"color: #7f7f7f; text-decoration-color: #7f7f7f\">:</span><a href=\"file:///home/ec2-user/anaconda3/envs/python3/lib/python3.10/site-packages/sagemaker/session.py#4094\" target=\"_blank\"><span style=\"color: #7f7f7f; text-decoration-color: #7f7f7f\">4094</span></a>\n",
       "</pre>\n"
      ],
      "text/plain": [
       "\u001b[2;36m                   \u001b[0m\u001b[2;36m \u001b[0m\u001b[1;38;2;0;105;255mINFO    \u001b[0m Creating model with name: sagemaker-xgboost-\u001b[1;36m2025\u001b[0m-02-12-13-22-34-619    \u001b]8;id=69967;file:///home/ec2-user/anaconda3/envs/python3/lib/python3.10/site-packages/sagemaker/session.py\u001b\\\u001b[2msession.py\u001b[0m\u001b]8;;\u001b\\\u001b[2m:\u001b[0m\u001b]8;id=250467;file:///home/ec2-user/anaconda3/envs/python3/lib/python3.10/site-packages/sagemaker/session.py#4094\u001b\\\u001b[2m4094\u001b[0m\u001b]8;;\u001b\\\n"
      ]
     },
     "metadata": {},
     "output_type": "display_data"
    },
    {
     "data": {
      "text/html": [
       "<pre style=\"white-space:pre;overflow-x:auto;line-height:normal;font-family:Menlo,'DejaVu Sans Mono',consolas,'Courier New',monospace\"><span style=\"color: #7fbfbf; text-decoration-color: #7fbfbf\">[02/12/25 13:22:35] </span><span style=\"color: #0069ff; text-decoration-color: #0069ff; font-weight: bold\">INFO    </span> Creating transform job with name:                                      <a href=\"file:///home/ec2-user/anaconda3/envs/python3/lib/python3.10/site-packages/sagemaker/session.py\" target=\"_blank\"><span style=\"color: #7f7f7f; text-decoration-color: #7f7f7f\">session.py</span></a><span style=\"color: #7f7f7f; text-decoration-color: #7f7f7f\">:</span><a href=\"file:///home/ec2-user/anaconda3/envs/python3/lib/python3.10/site-packages/sagemaker/session.py#3951\" target=\"_blank\"><span style=\"color: #7f7f7f; text-decoration-color: #7f7f7f\">3951</span></a>\n",
       "<span style=\"color: #7fbfbf; text-decoration-color: #7fbfbf\">                    </span>         sagemaker-xgboost-<span style=\"color: #008080; text-decoration-color: #008080; font-weight: bold\">2025</span>-02-12-13-22-35-225                              <span style=\"color: #7f7f7f; text-decoration-color: #7f7f7f\">               </span>\n",
       "</pre>\n"
      ],
      "text/plain": [
       "\u001b[2;36m[02/12/25 13:22:35]\u001b[0m\u001b[2;36m \u001b[0m\u001b[1;38;2;0;105;255mINFO    \u001b[0m Creating transform job with name:                                      \u001b]8;id=584750;file:///home/ec2-user/anaconda3/envs/python3/lib/python3.10/site-packages/sagemaker/session.py\u001b\\\u001b[2msession.py\u001b[0m\u001b]8;;\u001b\\\u001b[2m:\u001b[0m\u001b]8;id=571453;file:///home/ec2-user/anaconda3/envs/python3/lib/python3.10/site-packages/sagemaker/session.py#3951\u001b\\\u001b[2m3951\u001b[0m\u001b]8;;\u001b\\\n",
       "\u001b[2;36m                    \u001b[0m         sagemaker-xgboost-\u001b[1;36m2025\u001b[0m-02-12-13-22-35-225                              \u001b[2m               \u001b[0m\n"
      ]
     },
     "metadata": {},
     "output_type": "display_data"
    },
    {
     "name": "stdout",
     "output_type": "stream",
     "text": [
      "...............................\u001b[34m[2025-02-12:13:27:42:INFO] No GPUs detected (normal if no gpus installed)\u001b[0m\n",
      "\u001b[34m[2025-02-12:13:27:42:INFO] No GPUs detected (normal if no gpus installed)\u001b[0m\n",
      "\u001b[34m[2025-02-12:13:27:42:INFO] nginx config: \u001b[0m\n",
      "\u001b[34mworker_processes auto;\u001b[0m\n",
      "\u001b[34mdaemon off;\u001b[0m\n",
      "\u001b[34mpid /tmp/nginx.pid;\u001b[0m\n",
      "\u001b[34merror_log  /dev/stderr;\u001b[0m\n",
      "\u001b[34mworker_rlimit_nofile 4096;\u001b[0m\n",
      "\u001b[34mevents {\n",
      "  worker_connections 2048;\u001b[0m\n",
      "\u001b[34m}\u001b[0m\n",
      "\u001b[34mhttp {\n",
      "  include /etc/nginx/mime.types;\n",
      "  default_type application/octet-stream;\n",
      "  access_log /dev/stdout combined;\n",
      "  upstream gunicorn {\n",
      "    server unix:/tmp/gunicorn.sock;\n",
      "  }\n",
      "  server {\n",
      "    listen 8080 deferred;\n",
      "    client_max_body_size 0;\n",
      "    keepalive_timeout 3;\n",
      "    location ~ ^/(ping|invocations|execution-parameters) {\n",
      "      proxy_set_header X-Forwarded-For $proxy_add_x_forwarded_for;\n",
      "      proxy_set_header Host $http_host;\n",
      "      proxy_redirect off;\n",
      "      proxy_read_timeout 60s;\n",
      "      proxy_pass http://gunicorn;\n",
      "    }\n",
      "    location / {\n",
      "      return 404 \"{}\";\n",
      "    }\n",
      "  }\u001b[0m\n",
      "\u001b[34m}\u001b[0m\n",
      "\u001b[34m[2025-02-12 13:27:42 +0000] [16] [INFO] Starting gunicorn 19.10.0\u001b[0m\n",
      "\u001b[34m[2025-02-12 13:27:42 +0000] [16] [INFO] Listening at: unix:/tmp/gunicorn.sock (16)\u001b[0m\n",
      "\u001b[34m[2025-02-12 13:27:42 +0000] [16] [INFO] Using worker: gevent\u001b[0m\n",
      "\u001b[34m[2025-02-12 13:27:42 +0000] [21] [INFO] Booting worker with pid: 21\u001b[0m\n",
      "\u001b[34m[2025-02-12 13:27:42 +0000] [22] [INFO] Booting worker with pid: 22\u001b[0m\n",
      "\u001b[34m[2025-02-12:13:27:44:INFO] No GPUs detected (normal if no gpus installed)\u001b[0m\n",
      "\u001b[34m[2025-02-12:13:27:44:INFO] Loading the model from /opt/ml/model/xgboost-model\u001b[0m\n",
      "\u001b[34m[2025-02-12:13:27:44:INFO] Model objective : binary:logistic\u001b[0m\n",
      "\u001b[34m[2025-02-12:13:27:44:INFO] No GPUs detected (normal if no gpus installed)\u001b[0m\n",
      "\u001b[34m[2025-02-12:13:27:44:INFO] Loading the model from /opt/ml/model/xgboost-model\u001b[0m\n",
      "\u001b[34m[2025-02-12:13:27:44:INFO] Model objective : binary:logistic\u001b[0m\n",
      "\u001b[34m[2025-02-12:13:27:51:INFO] No GPUs detected (normal if no gpus installed)\u001b[0m\n",
      "\u001b[34m169.254.255.130 - - [12/Feb/2025:13:27:51 +0000] \"GET /ping HTTP/1.1\" 200 0 \"-\" \"Go-http-client/1.1\"\u001b[0m\n",
      "\u001b[34m[2025-02-12:13:27:51:INFO] No GPUs detected (normal if no gpus installed)\u001b[0m\n",
      "\u001b[34m169.254.255.130 - - [12/Feb/2025:13:27:51 +0000] \"GET /execution-parameters HTTP/1.1\" 200 84 \"-\" \"Go-http-client/1.1\"\u001b[0m\n",
      "\u001b[34m[2025-02-12:13:27:51:INFO] Determined delimiter of CSV input is ','\u001b[0m\n",
      "\u001b[34m169.254.255.130 - - [12/Feb/2025:13:27:51 +0000] \"POST /invocations HTTP/1.1\" 200 17922 \"-\" \"Go-http-client/1.1\"\u001b[0m\n",
      "\u001b[32m2025-02-12T13:27:51.301:[sagemaker logs]: MaxConcurrentTransforms=2, MaxPayloadInMB=6, BatchStrategy=MULTI_RECORD\u001b[0m\n",
      "\n",
      "\u001b[34m[2025-02-12:13:27:42:INFO] No GPUs detected (normal if no gpus installed)\u001b[0m\n",
      "\u001b[34m[2025-02-12:13:27:42:INFO] No GPUs detected (normal if no gpus installed)\u001b[0m\n",
      "\u001b[34m[2025-02-12:13:27:42:INFO] nginx config: \u001b[0m\n",
      "\u001b[34mworker_processes auto;\u001b[0m\n",
      "\u001b[34mdaemon off;\u001b[0m\n",
      "\u001b[34mpid /tmp/nginx.pid;\u001b[0m\n",
      "\u001b[34merror_log  /dev/stderr;\u001b[0m\n",
      "\u001b[34mworker_rlimit_nofile 4096;\u001b[0m\n",
      "\u001b[35m[2025-02-12:13:27:42:INFO] No GPUs detected (normal if no gpus installed)\u001b[0m\n",
      "\u001b[35m[2025-02-12:13:27:42:INFO] No GPUs detected (normal if no gpus installed)\u001b[0m\n",
      "\u001b[35m[2025-02-12:13:27:42:INFO] nginx config: \u001b[0m\n",
      "\u001b[35mworker_processes auto;\u001b[0m\n",
      "\u001b[35mdaemon off;\u001b[0m\n",
      "\u001b[35mpid /tmp/nginx.pid;\u001b[0m\n",
      "\u001b[35merror_log  /dev/stderr;\u001b[0m\n",
      "\u001b[35mworker_rlimit_nofile 4096;\u001b[0m\n",
      "\u001b[34mevents {\n",
      "  worker_connections 2048;\u001b[0m\n",
      "\u001b[34m}\u001b[0m\n",
      "\u001b[34mhttp {\n",
      "  include /etc/nginx/mime.types;\n",
      "  default_type application/octet-stream;\n",
      "  access_log /dev/stdout combined;\n",
      "  upstream gunicorn {\n",
      "    server unix:/tmp/gunicorn.sock;\n",
      "  }\n",
      "  server {\n",
      "    listen 8080 deferred;\n",
      "    client_max_body_size 0;\n",
      "    keepalive_timeout 3;\n",
      "    location ~ ^/(ping|invocations|execution-parameters) {\n",
      "      proxy_set_header X-Forwarded-For $proxy_add_x_forwarded_for;\n",
      "      proxy_set_header Host $http_host;\n",
      "      proxy_redirect off;\n",
      "      proxy_read_timeout 60s;\n",
      "      proxy_pass http://gunicorn;\n",
      "    }\n",
      "    location / {\n",
      "      return 404 \"{}\";\n",
      "    }\n",
      "  }\u001b[0m\n",
      "\u001b[34m}\u001b[0m\n",
      "\u001b[34m[2025-02-12 13:27:42 +0000] [16] [INFO] Starting gunicorn 19.10.0\u001b[0m\n",
      "\u001b[34m[2025-02-12 13:27:42 +0000] [16] [INFO] Listening at: unix:/tmp/gunicorn.sock (16)\u001b[0m\n",
      "\u001b[34m[2025-02-12 13:27:42 +0000] [16] [INFO] Using worker: gevent\u001b[0m\n",
      "\u001b[34m[2025-02-12 13:27:42 +0000] [21] [INFO] Booting worker with pid: 21\u001b[0m\n",
      "\u001b[34m[2025-02-12 13:27:42 +0000] [22] [INFO] Booting worker with pid: 22\u001b[0m\n",
      "\u001b[34m[2025-02-12:13:27:44:INFO] No GPUs detected (normal if no gpus installed)\u001b[0m\n",
      "\u001b[34m[2025-02-12:13:27:44:INFO] Loading the model from /opt/ml/model/xgboost-model\u001b[0m\n",
      "\u001b[34m[2025-02-12:13:27:44:INFO] Model objective : binary:logistic\u001b[0m\n",
      "\u001b[34m[2025-02-12:13:27:44:INFO] No GPUs detected (normal if no gpus installed)\u001b[0m\n",
      "\u001b[34m[2025-02-12:13:27:44:INFO] Loading the model from /opt/ml/model/xgboost-model\u001b[0m\n",
      "\u001b[34m[2025-02-12:13:27:44:INFO] Model objective : binary:logistic\u001b[0m\n",
      "\u001b[35mevents {\n",
      "  worker_connections 2048;\u001b[0m\n",
      "\u001b[35m}\u001b[0m\n",
      "\u001b[35mhttp {\n",
      "  include /etc/nginx/mime.types;\n",
      "  default_type application/octet-stream;\n",
      "  access_log /dev/stdout combined;\n",
      "  upstream gunicorn {\n",
      "    server unix:/tmp/gunicorn.sock;\n",
      "  }\n",
      "  server {\n",
      "    listen 8080 deferred;\n",
      "    client_max_body_size 0;\n",
      "    keepalive_timeout 3;\n",
      "    location ~ ^/(ping|invocations|execution-parameters) {\n",
      "      proxy_set_header X-Forwarded-For $proxy_add_x_forwarded_for;\n",
      "      proxy_set_header Host $http_host;\n",
      "      proxy_redirect off;\n",
      "      proxy_read_timeout 60s;\n",
      "      proxy_pass http://gunicorn;\n",
      "    }\n",
      "    location / {\n",
      "      return 404 \"{}\";\n",
      "    }\n",
      "  }\u001b[0m\n",
      "\u001b[35m}\u001b[0m\n",
      "\u001b[35m[2025-02-12 13:27:42 +0000] [16] [INFO] Starting gunicorn 19.10.0\u001b[0m\n",
      "\u001b[35m[2025-02-12 13:27:42 +0000] [16] [INFO] Listening at: unix:/tmp/gunicorn.sock (16)\u001b[0m\n",
      "\u001b[35m[2025-02-12 13:27:42 +0000] [16] [INFO] Using worker: gevent\u001b[0m\n",
      "\u001b[35m[2025-02-12 13:27:42 +0000] [21] [INFO] Booting worker with pid: 21\u001b[0m\n",
      "\u001b[35m[2025-02-12 13:27:42 +0000] [22] [INFO] Booting worker with pid: 22\u001b[0m\n",
      "\u001b[35m[2025-02-12:13:27:44:INFO] No GPUs detected (normal if no gpus installed)\u001b[0m\n",
      "\u001b[35m[2025-02-12:13:27:44:INFO] Loading the model from /opt/ml/model/xgboost-model\u001b[0m\n",
      "\u001b[35m[2025-02-12:13:27:44:INFO] Model objective : binary:logistic\u001b[0m\n",
      "\u001b[35m[2025-02-12:13:27:44:INFO] No GPUs detected (normal if no gpus installed)\u001b[0m\n",
      "\u001b[35m[2025-02-12:13:27:44:INFO] Loading the model from /opt/ml/model/xgboost-model\u001b[0m\n",
      "\u001b[35m[2025-02-12:13:27:44:INFO] Model objective : binary:logistic\u001b[0m\n",
      "\u001b[34m[2025-02-12:13:27:51:INFO] No GPUs detected (normal if no gpus installed)\u001b[0m\n",
      "\u001b[34m169.254.255.130 - - [12/Feb/2025:13:27:51 +0000] \"GET /ping HTTP/1.1\" 200 0 \"-\" \"Go-http-client/1.1\"\u001b[0m\n",
      "\u001b[34m[2025-02-12:13:27:51:INFO] No GPUs detected (normal if no gpus installed)\u001b[0m\n",
      "\u001b[34m169.254.255.130 - - [12/Feb/2025:13:27:51 +0000] \"GET /execution-parameters HTTP/1.1\" 200 84 \"-\" \"Go-http-client/1.1\"\u001b[0m\n",
      "\u001b[34m[2025-02-12:13:27:51:INFO] Determined delimiter of CSV input is ','\u001b[0m\n",
      "\u001b[34m169.254.255.130 - - [12/Feb/2025:13:27:51 +0000] \"POST /invocations HTTP/1.1\" 200 17922 \"-\" \"Go-http-client/1.1\"\u001b[0m\n",
      "\u001b[35m[2025-02-12:13:27:51:INFO] No GPUs detected (normal if no gpus installed)\u001b[0m\n",
      "\u001b[35m169.254.255.130 - - [12/Feb/2025:13:27:51 +0000] \"GET /ping HTTP/1.1\" 200 0 \"-\" \"Go-http-client/1.1\"\u001b[0m\n",
      "\u001b[35m[2025-02-12:13:27:51:INFO] No GPUs detected (normal if no gpus installed)\u001b[0m\n",
      "\u001b[35m169.254.255.130 - - [12/Feb/2025:13:27:51 +0000] \"GET /execution-parameters HTTP/1.1\" 200 84 \"-\" \"Go-http-client/1.1\"\u001b[0m\n",
      "\u001b[35m[2025-02-12:13:27:51:INFO] Determined delimiter of CSV input is ','\u001b[0m\n",
      "\u001b[35m169.254.255.130 - - [12/Feb/2025:13:27:51 +0000] \"POST /invocations HTTP/1.1\" 200 17922 \"-\" \"Go-http-client/1.1\"\u001b[0m\n",
      "\u001b[32m2025-02-12T13:27:51.301:[sagemaker logs]: MaxConcurrentTransforms=2, MaxPayloadInMB=6, BatchStrategy=MULTI_RECORD\u001b[0m\n"
     ]
    }
   ],
   "source": [
    "# There is no endpoint created here\n",
    "\n",
    "import boto3\n",
    "from sagemaker.model import Model\n",
    "from sagemaker.serverless import ServerlessInferenceConfig\n",
    "from sagemaker import get_execution_role\n",
    "\n",
    "features_only_batch_transform = test_df.iloc[:, 1:]  # Exclude the first column (label)\n",
    "test_data_csv_batch_transform = features_only_batch_transform.to_csv(index=False, header=False).strip()\n",
    "\n",
    "# Save to CSV without header\n",
    "csv_file_path = 'validation_no_label_batch_transform.csv'\n",
    "features_only_batch_transform.to_csv(csv_file_path, index=False, header=False)\n",
    "\n",
    "# Upload the prepared CSV to S3\n",
    "s3 = boto3.client('s3')\n",
    "s3.upload_file(csv_file_path, bucket, f'{prefix}/validation/validation_no_label_batch_transform.csv')\n",
    "\n",
    "# input data needs to be available in s3 unlike other methods\n",
    "# probably without s3, if the input file is local, the code must change\n",
    "model_artifact = \"s3://sagemaker-us-east-1-100163808729/deployment/output/sagemaker-xgboost-2025-02-12-06-57-40-558/output/model.tar.gz\"\n",
    "container = sagemaker.image_uris.retrieve(framework=\"xgboost\", region=boto3.Session().region_name, version=\"1.3-1\")\n",
    "input_path = 's3://sagemaker-us-east-1-100163808729/deployment/validation/validation_no_label_batch_transform.csv'\n",
    "output_path = f's3://{bucket}/{prefix}/batch-transform-output/'\n",
    "\n",
    "# Create the model object using the S3 path\n",
    "model = Model(\n",
    "    image_uri=container,\n",
    "    model_data=model_artifact,\n",
    "    role=get_execution_role()\n",
    ")\n",
    "\n",
    "# Create a transformer object\n",
    "transformer = model.transformer(\n",
    "    instance_count=1,\n",
    "    instance_type='ml.m5.large',  # Choose an instance type\n",
    "    output_path=output_path,\n",
    "    strategy='MultiRecord',  # Strategy for processing records (SingleRecord or MultiRecord)\n",
    "    assemble_with='Line',  # How to join results, e.g., 'Line' to join with newlines\n",
    "    accept='text/csv'  # Output format\n",
    ")\n",
    "\n",
    "# Start the transform job\n",
    "transformer.transform(\n",
    "    data=input_path,  # Input data in S3\n",
    "    content_type='text/csv',  # Input format\n",
    "    split_type='Line'  # How the input data is split (e.g., by line)\n",
    ")\n",
    "\n",
    "# Wait for the job to finish\n",
    "transformer.wait()"
   ]
  },
  {
   "cell_type": "markdown",
   "id": "d2e0f192-0d96-4236-8e08-88c735c40ecf",
   "metadata": {},
   "source": [
    "# Deployment Type 5 - Asynchronous inference endpoint"
   ]
  },
  {
   "cell_type": "code",
   "execution_count": null,
   "id": "636263a6-5b9f-4ce1-8bef-72ff9380ca11",
   "metadata": {},
   "outputs": [
    {
     "data": {
      "text/html": [
       "<pre style=\"white-space:pre;overflow-x:auto;line-height:normal;font-family:Menlo,'DejaVu Sans Mono',consolas,'Courier New',monospace\"><span style=\"color: #7fbfbf; text-decoration-color: #7fbfbf\">[02/12/25 11:22:20] </span><span style=\"color: #0069ff; text-decoration-color: #0069ff; font-weight: bold\">INFO    </span> Creating model with name: sagemaker-xgboost-<span style=\"color: #008080; text-decoration-color: #008080; font-weight: bold\">2025</span>-02-12-11-22-20-479    <a href=\"file:///home/ec2-user/anaconda3/envs/python3/lib/python3.10/site-packages/sagemaker/session.py\" target=\"_blank\"><span style=\"color: #7f7f7f; text-decoration-color: #7f7f7f\">session.py</span></a><span style=\"color: #7f7f7f; text-decoration-color: #7f7f7f\">:</span><a href=\"file:///home/ec2-user/anaconda3/envs/python3/lib/python3.10/site-packages/sagemaker/session.py#4094\" target=\"_blank\"><span style=\"color: #7f7f7f; text-decoration-color: #7f7f7f\">4094</span></a>\n",
       "</pre>\n"
      ],
      "text/plain": [
       "\u001b[2;36m[02/12/25 11:22:20]\u001b[0m\u001b[2;36m \u001b[0m\u001b[1;38;2;0;105;255mINFO    \u001b[0m Creating model with name: sagemaker-xgboost-\u001b[1;36m2025\u001b[0m-02-12-11-22-20-479    \u001b]8;id=516292;file:///home/ec2-user/anaconda3/envs/python3/lib/python3.10/site-packages/sagemaker/session.py\u001b\\\u001b[2msession.py\u001b[0m\u001b]8;;\u001b\\\u001b[2m:\u001b[0m\u001b]8;id=307657;file:///home/ec2-user/anaconda3/envs/python3/lib/python3.10/site-packages/sagemaker/session.py#4094\u001b\\\u001b[2m4094\u001b[0m\u001b]8;;\u001b\\\n"
      ]
     },
     "metadata": {},
     "output_type": "display_data"
    },
    {
     "data": {
      "text/html": [
       "<pre style=\"white-space:pre;overflow-x:auto;line-height:normal;font-family:Menlo,'DejaVu Sans Mono',consolas,'Courier New',monospace\"><span style=\"color: #7fbfbf; text-decoration-color: #7fbfbf\">[02/12/25 11:22:21] </span><span style=\"color: #0069ff; text-decoration-color: #0069ff; font-weight: bold\">INFO    </span> Creating endpoint-config with name employee-attrition-async-<span style=\"color: #008080; text-decoration-color: #008080; font-weight: bold\">1</span>          <a href=\"file:///home/ec2-user/anaconda3/envs/python3/lib/python3.10/site-packages/sagemaker/session.py\" target=\"_blank\"><span style=\"color: #7f7f7f; text-decoration-color: #7f7f7f\">session.py</span></a><span style=\"color: #7f7f7f; text-decoration-color: #7f7f7f\">:</span><a href=\"file:///home/ec2-user/anaconda3/envs/python3/lib/python3.10/site-packages/sagemaker/session.py#5889\" target=\"_blank\"><span style=\"color: #7f7f7f; text-decoration-color: #7f7f7f\">5889</span></a>\n",
       "</pre>\n"
      ],
      "text/plain": [
       "\u001b[2;36m[02/12/25 11:22:21]\u001b[0m\u001b[2;36m \u001b[0m\u001b[1;38;2;0;105;255mINFO    \u001b[0m Creating endpoint-config with name employee-attrition-async-\u001b[1;36m1\u001b[0m          \u001b]8;id=933396;file:///home/ec2-user/anaconda3/envs/python3/lib/python3.10/site-packages/sagemaker/session.py\u001b\\\u001b[2msession.py\u001b[0m\u001b]8;;\u001b\\\u001b[2m:\u001b[0m\u001b]8;id=486691;file:///home/ec2-user/anaconda3/envs/python3/lib/python3.10/site-packages/sagemaker/session.py#5889\u001b\\\u001b[2m5889\u001b[0m\u001b]8;;\u001b\\\n"
      ]
     },
     "metadata": {},
     "output_type": "display_data"
    },
    {
     "data": {
      "text/html": [
       "<pre style=\"white-space:pre;overflow-x:auto;line-height:normal;font-family:Menlo,'DejaVu Sans Mono',consolas,'Courier New',monospace\"><span style=\"color: #7fbfbf; text-decoration-color: #7fbfbf\">                    </span><span style=\"color: #0069ff; text-decoration-color: #0069ff; font-weight: bold\">INFO    </span> Creating endpoint with name employee-attrition-async-<span style=\"color: #008080; text-decoration-color: #008080; font-weight: bold\">1</span>                 <a href=\"file:///home/ec2-user/anaconda3/envs/python3/lib/python3.10/site-packages/sagemaker/session.py\" target=\"_blank\"><span style=\"color: #7f7f7f; text-decoration-color: #7f7f7f\">session.py</span></a><span style=\"color: #7f7f7f; text-decoration-color: #7f7f7f\">:</span><a href=\"file:///home/ec2-user/anaconda3/envs/python3/lib/python3.10/site-packages/sagemaker/session.py#4711\" target=\"_blank\"><span style=\"color: #7f7f7f; text-decoration-color: #7f7f7f\">4711</span></a>\n",
       "</pre>\n"
      ],
      "text/plain": [
       "\u001b[2;36m                   \u001b[0m\u001b[2;36m \u001b[0m\u001b[1;38;2;0;105;255mINFO    \u001b[0m Creating endpoint with name employee-attrition-async-\u001b[1;36m1\u001b[0m                 \u001b]8;id=657566;file:///home/ec2-user/anaconda3/envs/python3/lib/python3.10/site-packages/sagemaker/session.py\u001b\\\u001b[2msession.py\u001b[0m\u001b]8;;\u001b\\\u001b[2m:\u001b[0m\u001b]8;id=577227;file:///home/ec2-user/anaconda3/envs/python3/lib/python3.10/site-packages/sagemaker/session.py#4711\u001b\\\u001b[2m4711\u001b[0m\u001b]8;;\u001b\\\n"
      ]
     },
     "metadata": {},
     "output_type": "display_data"
    },
    {
     "name": "stdout",
     "output_type": "stream",
     "text": [
      "-----!"
     ]
    }
   ],
   "source": [
    "from sagemaker.async_inference import AsyncInferenceConfig\n",
    "\n",
    "# Deploy the model as an asynchronous endpoint\n",
    "async_predictor = estimator.deploy(\n",
    "    initial_instance_count=1,  # Number of instances\n",
    "    instance_type='ml.m5.xlarge',  # Instance type\n",
    "    async_inference_config=AsyncInferenceConfig(\n",
    "        output_path=f's3://{bucket_name}/output/async-output',  # S3 path to store output\n",
    "        max_concurrent_invocations_per_instance=2\n",
    "    ),\n",
    "    endpoint_name='life-expectancy-predictor-async-1'\n",
    ")"
   ]
  },
  {
   "cell_type": "markdown",
   "id": "a17902ed-f22e-4be6-94ae-7b7e2ff4f314",
   "metadata": {},
   "source": [
    "# Predict using above endpoint"
   ]
  },
  {
   "cell_type": "code",
   "execution_count": 28,
   "id": "515ce56a-f0ae-4281-87b1-d7c58ebe5c30",
   "metadata": {},
   "outputs": [
    {
     "name": "stdout",
     "output_type": "stream",
     "text": [
      "Asynchronous inference request sent. Check S3 for results.\n"
     ]
    }
   ],
   "source": [
    "# Remove the label column and the header\n",
    "features_only = test_df.iloc[:, 1:]  # Exclude the first column (label)\n",
    "test_data_csv = features_only.to_csv(index=False, header=False).strip()\n",
    "\n",
    "# Save to CSV without header\n",
    "csv_file_path = 'validation_no_label.csv'\n",
    "features_only.to_csv(csv_file_path, index=False, header=False)\n",
    "\n",
    "# Upload the prepared CSV to S3\n",
    "s3 = boto3.client('s3')\n",
    "s3.upload_file(csv_file_path, bucket, f'{prefix}/validation/validation_no_label.csv')\n",
    "\n",
    "# Update the input location for the asynchronous request\n",
    "# here also, input data is in s3, not local\n",
    "input_location = f's3://{bucket}/{prefix}/validation/validation_no_label.csv'\n",
    "\n",
    "import boto3\n",
    "\n",
    "# Initialize the SageMaker runtime client\n",
    "runtime_client = boto3.client('sagemaker-runtime')\n",
    "\n",
    "# Specify the endpoint name\n",
    "endpoint_name = 'employee-attrition-async-1'\n",
    "\n",
    "# Invoke the asynchronous endpoint with your input data location\n",
    "response = runtime_client.invoke_endpoint_async(\n",
    "    EndpointName=endpoint_name, \n",
    "    InputLocation=input_location,\n",
    "    InvocationTimeoutSeconds=1600,  # Set timeout to allow sufficient time for processing\n",
    "    ContentType='text/csv'\n",
    ")\n",
    "\n",
    "# Response contains metadata about the request, not the prediction itself.\n",
    "# The actual predictions will be saved to the specified S3 output path.\n",
    "# The output was available at s3://sagemaker-us-east-1-100163808729/deployment/async-output/8cbde29d-de1a-4566-8ed1-ceacc67b29a3.out\n",
    "print(\"Asynchronous inference request sent. Check S3 for results.\")\n",
    "\n",
    "# Note, this did not work as well because predictor is of class NoneType\n",
    "# delete manually from UI\n",
    "\n",
    "# Delete the endpoint when no longer needed\n",
    "# predictor.delete_endpoint()"
   ]
  },
  {
   "cell_type": "markdown",
   "id": "f79ed608-60d0-4ff3-a318-aab6f3a08110",
   "metadata": {},
   "source": [
    "# Deployment Type 6 - multi-model endpoint"
   ]
  },
  {
   "cell_type": "code",
   "execution_count": 34,
   "id": "b990d161-a8ee-4923-94b7-135440d6cea4",
   "metadata": {},
   "outputs": [
    {
     "data": {
      "text/html": [
       "<pre style=\"white-space:pre;overflow-x:auto;line-height:normal;font-family:Menlo,'DejaVu Sans Mono',consolas,'Courier New',monospace\"><span style=\"color: #7fbfbf; text-decoration-color: #7fbfbf\">[02/12/25 12:42:18] </span><span style=\"color: #0069ff; text-decoration-color: #0069ff; font-weight: bold\">INFO    </span> Ignoring unnecessary instance type: <span style=\"color: #e100e1; text-decoration-color: #e100e1; font-style: italic\">None</span>.                            <a href=\"file:///home/ec2-user/anaconda3/envs/python3/lib/python3.10/site-packages/sagemaker/image_uris.py\" target=\"_blank\"><span style=\"color: #7f7f7f; text-decoration-color: #7f7f7f\">image_uris.py</span></a><span style=\"color: #7f7f7f; text-decoration-color: #7f7f7f\">:</span><a href=\"file:///home/ec2-user/anaconda3/envs/python3/lib/python3.10/site-packages/sagemaker/image_uris.py#528\" target=\"_blank\"><span style=\"color: #7f7f7f; text-decoration-color: #7f7f7f\">528</span></a>\n",
       "</pre>\n"
      ],
      "text/plain": [
       "\u001b[2;36m[02/12/25 12:42:18]\u001b[0m\u001b[2;36m \u001b[0m\u001b[1;38;2;0;105;255mINFO    \u001b[0m Ignoring unnecessary instance type: \u001b[3;38;2;225;0;225mNone\u001b[0m.                            \u001b]8;id=917358;file:///home/ec2-user/anaconda3/envs/python3/lib/python3.10/site-packages/sagemaker/image_uris.py\u001b\\\u001b[2mimage_uris.py\u001b[0m\u001b]8;;\u001b\\\u001b[2m:\u001b[0m\u001b]8;id=233656;file:///home/ec2-user/anaconda3/envs/python3/lib/python3.10/site-packages/sagemaker/image_uris.py#528\u001b\\\u001b[2m528\u001b[0m\u001b]8;;\u001b\\\n"
      ]
     },
     "metadata": {},
     "output_type": "display_data"
    },
    {
     "data": {
      "text/html": [
       "<pre style=\"white-space:pre;overflow-x:auto;line-height:normal;font-family:Menlo,'DejaVu Sans Mono',consolas,'Courier New',monospace\"><span style=\"color: #7fbfbf; text-decoration-color: #7fbfbf\">                    </span><span style=\"color: #0069ff; text-decoration-color: #0069ff; font-weight: bold\">INFO    </span> Creating model with name: multi-model-endpoint-<span style=\"color: #008080; text-decoration-color: #008080; font-weight: bold\">2</span>                       <a href=\"file:///home/ec2-user/anaconda3/envs/python3/lib/python3.10/site-packages/sagemaker/session.py\" target=\"_blank\"><span style=\"color: #7f7f7f; text-decoration-color: #7f7f7f\">session.py</span></a><span style=\"color: #7f7f7f; text-decoration-color: #7f7f7f\">:</span><a href=\"file:///home/ec2-user/anaconda3/envs/python3/lib/python3.10/site-packages/sagemaker/session.py#4094\" target=\"_blank\"><span style=\"color: #7f7f7f; text-decoration-color: #7f7f7f\">4094</span></a>\n",
       "</pre>\n"
      ],
      "text/plain": [
       "\u001b[2;36m                   \u001b[0m\u001b[2;36m \u001b[0m\u001b[1;38;2;0;105;255mINFO    \u001b[0m Creating model with name: multi-model-endpoint-\u001b[1;36m2\u001b[0m                       \u001b]8;id=574324;file:///home/ec2-user/anaconda3/envs/python3/lib/python3.10/site-packages/sagemaker/session.py\u001b\\\u001b[2msession.py\u001b[0m\u001b]8;;\u001b\\\u001b[2m:\u001b[0m\u001b]8;id=39520;file:///home/ec2-user/anaconda3/envs/python3/lib/python3.10/site-packages/sagemaker/session.py#4094\u001b\\\u001b[2m4094\u001b[0m\u001b]8;;\u001b\\\n"
      ]
     },
     "metadata": {},
     "output_type": "display_data"
    },
    {
     "data": {
      "text/html": [
       "<pre style=\"white-space:pre;overflow-x:auto;line-height:normal;font-family:Menlo,'DejaVu Sans Mono',consolas,'Courier New',monospace\"><span style=\"color: #7fbfbf; text-decoration-color: #7fbfbf\">[02/12/25 12:42:19] </span><span style=\"color: #0069ff; text-decoration-color: #0069ff; font-weight: bold\">INFO    </span> Creating endpoint-config with name multi-model-endpoint-<span style=\"color: #008080; text-decoration-color: #008080; font-weight: bold\">2</span>              <a href=\"file:///home/ec2-user/anaconda3/envs/python3/lib/python3.10/site-packages/sagemaker/session.py\" target=\"_blank\"><span style=\"color: #7f7f7f; text-decoration-color: #7f7f7f\">session.py</span></a><span style=\"color: #7f7f7f; text-decoration-color: #7f7f7f\">:</span><a href=\"file:///home/ec2-user/anaconda3/envs/python3/lib/python3.10/site-packages/sagemaker/session.py#5889\" target=\"_blank\"><span style=\"color: #7f7f7f; text-decoration-color: #7f7f7f\">5889</span></a>\n",
       "</pre>\n"
      ],
      "text/plain": [
       "\u001b[2;36m[02/12/25 12:42:19]\u001b[0m\u001b[2;36m \u001b[0m\u001b[1;38;2;0;105;255mINFO    \u001b[0m Creating endpoint-config with name multi-model-endpoint-\u001b[1;36m2\u001b[0m              \u001b]8;id=311022;file:///home/ec2-user/anaconda3/envs/python3/lib/python3.10/site-packages/sagemaker/session.py\u001b\\\u001b[2msession.py\u001b[0m\u001b]8;;\u001b\\\u001b[2m:\u001b[0m\u001b]8;id=153009;file:///home/ec2-user/anaconda3/envs/python3/lib/python3.10/site-packages/sagemaker/session.py#5889\u001b\\\u001b[2m5889\u001b[0m\u001b]8;;\u001b\\\n"
      ]
     },
     "metadata": {},
     "output_type": "display_data"
    },
    {
     "data": {
      "text/html": [
       "<pre style=\"white-space:pre;overflow-x:auto;line-height:normal;font-family:Menlo,'DejaVu Sans Mono',consolas,'Courier New',monospace\"><span style=\"color: #7fbfbf; text-decoration-color: #7fbfbf\">                    </span><span style=\"color: #0069ff; text-decoration-color: #0069ff; font-weight: bold\">INFO    </span> Creating endpoint with name multi-model-endpoint-<span style=\"color: #008080; text-decoration-color: #008080; font-weight: bold\">2</span>                     <a href=\"file:///home/ec2-user/anaconda3/envs/python3/lib/python3.10/site-packages/sagemaker/session.py\" target=\"_blank\"><span style=\"color: #7f7f7f; text-decoration-color: #7f7f7f\">session.py</span></a><span style=\"color: #7f7f7f; text-decoration-color: #7f7f7f\">:</span><a href=\"file:///home/ec2-user/anaconda3/envs/python3/lib/python3.10/site-packages/sagemaker/session.py#4711\" target=\"_blank\"><span style=\"color: #7f7f7f; text-decoration-color: #7f7f7f\">4711</span></a>\n",
       "</pre>\n"
      ],
      "text/plain": [
       "\u001b[2;36m                   \u001b[0m\u001b[2;36m \u001b[0m\u001b[1;38;2;0;105;255mINFO    \u001b[0m Creating endpoint with name multi-model-endpoint-\u001b[1;36m2\u001b[0m                     \u001b]8;id=498900;file:///home/ec2-user/anaconda3/envs/python3/lib/python3.10/site-packages/sagemaker/session.py\u001b\\\u001b[2msession.py\u001b[0m\u001b]8;;\u001b\\\u001b[2m:\u001b[0m\u001b]8;id=767647;file:///home/ec2-user/anaconda3/envs/python3/lib/python3.10/site-packages/sagemaker/session.py#4711\u001b\\\u001b[2m4711\u001b[0m\u001b]8;;\u001b\\\n"
      ]
     },
     "metadata": {},
     "output_type": "display_data"
    },
    {
     "name": "stdout",
     "output_type": "stream",
     "text": [
      "-----!"
     ]
    }
   ],
   "source": [
    "from sagemaker import Model\n",
    "from sagemaker.multidatamodel import MultiDataModel\n",
    "\n",
    "# S3 path to your model artifacts\n",
    "# below path could have model.tar.gz, model-.tar.gz etc\n",
    "model_artifact_path = 's3://sagemaker-us-east-1-100163808729/deployment/output/sagemaker-xgboost-2025-02-12-06-57-40-558/output/'\n",
    "\n",
    "# Define the container image (for example, XGBoost)\n",
    "container_image = sagemaker.image_uris.retrieve(framework=\"xgboost\", region=boto3.Session().region_name, version=\"1.3-1\")\n",
    "\n",
    "# Create a Model object (this includes the image and role information)\n",
    "model = Model(\n",
    "    image_uri=container_image,\n",
    "    role=sagemaker.get_execution_role()\n",
    ")\n",
    "\n",
    "# Create the MultiDataModel\n",
    "mme = MultiDataModel(\n",
    "    name=\"multi-model-endpoint-2\",\n",
    "    model_data_prefix=model_artifact_path,  # S3 path where models are stored\n",
    "    model=model,  # Pass the Model object that defines the container image\n",
    "    sagemaker_session=sagemaker.Session()\n",
    ")\n",
    "\n",
    "# Deploy the Multi-Model Endpoint\n",
    "predictor = mme.deploy(\n",
    "    initial_instance_count=1,\n",
    "    instance_type=\"ml.m5.xlarge\",\n",
    "    endpoint_name=\"multi-model-endpoint-2\"\n",
    ")\n"
   ]
  },
  {
   "cell_type": "markdown",
   "id": "c926568b-2662-4468-accd-afe1511962e9",
   "metadata": {},
   "source": [
    "# Predict using above endpoint"
   ]
  },
  {
   "cell_type": "code",
   "execution_count": 35,
   "id": "4f9b894d-397e-4ab5-a7d0-cf4e0368aab3",
   "metadata": {},
   "outputs": [
    {
     "name": "stdout",
     "output_type": "stream",
     "text": [
      "[0.20303820073604584, 0.20303820073604584, 0.3774380087852478, 0.5340070128440857, 0.1691509336233139, 0.37122291326522827, 0.6700358986854553, 0.8091390132904053, 0.1691509336233139, 0.8091390132904053, 0.1691509336233139, 0.20303820073604584, 0.9251188635826111, 0.1691509336233139, 0.35528063774108887, 0.8091390132904053, 0.1633274257183075, 0.38120347261428833, 0.36576730012893677, 0.1691509336233139, 0.1691509336233139, 0.40060654282569885, 0.7384953498840332, 0.20303820073604584, 0.3876122534275055, 0.1691509336233139, 0.1691509336233139, 0.1633274257183075, 0.1633274257183075, 0.1633274257183075, 0.1691509336233139, 0.9031620621681213, 0.3774380087852478, 0.1691509336233139, 0.32054612040519714, 0.1691509336233139, 0.37556877732276917, 0.1691509336233139, 0.20303820073604584, 0.1691509336233139, 0.90727698802948, 0.1691509336233139, 0.8091390132904053, 0.1691509336233139, 0.1691509336233139, 0.1691509336233139, 0.1691509336233139, 0.6700358986854553, 0.9093160629272461, 0.1691509336233139, 0.1691509336233139, 0.1691509336233139, 0.8091390132904053, 0.33152005076408386, 0.1691509336233139, 0.1691509336233139, 0.5105755925178528, 0.1691509336233139, 0.20303820073604584, 0.20303820073604584, 0.32054612040519714, 0.20303820073604584, 0.1633274257183075, 0.90727698802948, 0.1633274257183075, 0.20303820073604584, 0.8091390132904053, 0.1691509336233139, 0.20303820073604584, 0.1691509336233139, 0.3774380087852478, 0.1691509336233139, 0.32460498809814453, 0.6700358986854553, 0.1633274257183075, 0.6700358986854553, 0.9210829138755798, 0.90727698802948, 0.1691509336233139, 0.32460498809814453, 0.90727698802948, 0.8091390132904053, 0.20303820073604584, 0.1691509336233139, 0.1691509336233139, 0.1633274257183075, 0.4081501066684723, 0.41000276803970337, 0.20303820073604584, 0.1633274257183075, 0.47823265194892883, 0.4764738380908966, 0.32204386591911316, 0.1691509336233139, 0.1691509336233139, 0.37556877732276917, 0.37122291326522827, 0.8091390132904053, 0.41000276803970337, 0.1691509336233139, 0.1691509336233139, 0.20303820073604584, 0.37556877732276917, 0.20303820073604584, 0.1633274257183075, 0.1691509336233139, 0.23545874655246735, 0.9093160629272461, 0.1691509336233139, 0.1633274257183075, 0.35528063774108887, 0.1691509336233139, 0.1633274257183075, 0.1691509336233139, 0.1633274257183075, 0.20303820073604584, 0.32204386591911316, 0.3774380087852478, 0.6700358986854553, 0.1633274257183075, 0.1691509336233139, 0.36576730012893677, 0.1691509336233139, 0.3167973756790161, 0.20303820073604584, 0.1691509336233139, 0.9093160629272461, 0.1691509336233139, 0.9052821397781372, 0.20303820073604584, 0.1691509336233139, 0.20600642263889313, 0.1691509336233139, 0.32204386591911316, 0.8091390132904053, 0.20303820073604584, 0.4329011142253876, 0.1691509336233139, 0.1691509336233139, 0.1633274257183075, 0.4204619526863098, 0.1691509336233139, 0.1691509336233139, 0.9093160629272461, 0.6700358986854553, 0.33152005076408386, 0.1691509336233139, 0.8091390132904053, 0.1633274257183075, 0.20303820073604584, 0.9251188635826111, 0.1633274257183075, 0.8091390132904053, 0.37556877732276917, 0.19091923534870148, 0.32054612040519714, 0.41000276803970337, 0.41000276803970337, 0.1633274257183075, 0.1633274257183075, 0.32204386591911316, 0.1633274257183075, 0.6700358986854553, 0.1633274257183075, 0.1691509336233139, 0.9210829138755798, 0.1691509336233139, 0.45708754658699036, 0.1691509336233139, 0.37122291326522827, 0.35703808069229126, 0.8091390132904053, 0.1633274257183075, 0.20303820073604584, 0.6700358986854553, 0.20303820073604584, 0.35703808069229126, 0.1633274257183075, 0.20303820073604584, 0.9251188635826111, 0.1691509336233139, 0.1633274257183075, 0.3774380087852478, 0.2999304533004761, 0.1691509336233139, 0.1691509336233139, 0.1974942982196808, 0.9210829138755798, 0.20303820073604584, 0.1691509336233139, 0.1691509336233139, 0.20303820073604584, 0.32054612040519714, 0.1691509336233139, 0.1633274257183075, 0.1691509336233139, 0.5105755925178528, 0.1691509336233139, 0.1691509336233139, 0.1691509336233139, 0.45708754658699036, 0.41000276803970337, 0.1633274257183075, 0.1691509336233139, 0.20303820073604584, 0.1691509336233139, 0.1691509336233139, 0.1691509336233139, 0.1691509336233139, 0.20303820073604584, 0.1633274257183075, 0.20303820073604584, 0.1633274257183075, 0.20303820073604584, 0.90727698802948, 0.9093160629272461, 0.1691509336233139, 0.1691509336233139, 0.1691509336233139, 0.1691509336233139, 0.1633274257183075, 0.1633274257183075, 0.1691509336233139, 0.20303820073604584, 0.1691509336233139, 0.8091390132904053, 0.6700358986854553, 0.1691509336233139, 0.90727698802948, 0.33746567368507385, 0.20303820073604584, 0.1974942982196808, 0.1633274257183075, 0.1633274257183075, 0.37556877732276917, 0.20303820073604584, 0.20303820073604584, 0.1633274257183075, 0.589168131351471, 0.48856815695762634, 0.1691509336233139, 0.20303820073604584, 0.90727698802948, 0.1691509336233139, 0.36698663234710693, 0.37556877732276917, 0.20303820073604584, 0.1691509336233139, 0.20303820073604584, 0.1691509336233139, 0.32460498809814453, 0.1691509336233139, 0.8091390132904053, 0.32054612040519714, 0.20303820073604584, 0.20303820073604584, 0.1691509336233139, 0.32204386591911316, 0.1691509336233139, 0.33152005076408386, 0.1691509336233139, 0.1691509336233139, 0.20303820073604584, 0.48856815695762634, 0.1691509336233139, 0.20303820073604584, 0.3154616057872772, 0.90727698802948, 0.19091923534870148, 0.32460498809814453, 0.20303820073604584, 0.1691509336233139, 0.1974942982196808, 0.4527304470539093, 0.32054612040519714, 0.20303820073604584, 0.1691509336233139, 0.1691509336233139, 0.90727698802948, 0.37556877732276917, 0.9093160629272461, 0.20303820073604584, 0.33746567368507385, 0.1691509336233139, 0.90727698802948, 0.9251188635826111, 0.1691509336233139, 0.9052821397781372, 0.1691509336233139, 0.3173181116580963, 0.20303820073604584, 0.33152005076408386, 0.20303820073604584, 0.37122291326522827, 0.1691509336233139, 0.1691509336233139, 0.90727698802948, 0.20303820073604584, 0.1691509336233139, 0.6700358986854553, 0.38928481936454773, 0.1691509336233139, 0.20303820073604584, 0.20303820073604584, 0.9031620621681213, 0.4764738380908966, 0.90727698802948, 0.37556877732276917, 0.8091390132904053, 0.1633274257183075, 0.20303820073604584, 0.9210829138755798, 0.35528063774108887, 0.8091390132904053, 0.1691509336233139, 0.8091390132904053, 0.8091390132904053, 0.20303820073604584, 0.90727698802948, 0.3876122534275055, 0.6700358986854553, 0.9251188635826111, 0.3774380087852478, 0.4185955822467804, 0.32460498809814453, 0.1691509336233139, 0.1691509336233139, 0.9228442311286926, 0.20303820073604584, 0.36576730012893677, 0.8091390132904053, 0.1691509336233139, 0.20303820073604584, 0.37556877732276917, 0.1633274257183075, 0.90727698802948, 0.3876122534275055, 0.3774380087852478, 0.20303820073604584, 0.1691509336233139, 0.9093160629272461, 0.1691509336233139, 0.4081501066684723, 0.5086602568626404, 0.20303820073604584, 0.8091390132904053, 0.4081501066684723, 0.20303820073604584, 0.20303820073604584, 0.20303820073604584, 0.1691509336233139, 0.1633274257183075, 0.1691509336233139, 0.8091390132904053, 0.23545874655246735, 0.32054612040519714, 0.1691509336233139, 0.1633274257183075, 0.90727698802948, 0.1633274257183075, 0.3154616057872772, 0.32054612040519714, 0.1691509336233139, 0.1691509336233139, 0.20303820073604584, 0.3154616057872772, 0.1633274257183075, 0.20303820073604584, 0.1691509336233139, 0.20303820073604584, 0.1691509336233139, 0.1691509336233139, 0.20303820073604584, 0.1691509336233139, 0.4329011142253876, 0.1691509336233139, 0.1691509336233139, 0.1633274257183075, 0.3154616057872772, 0.3774380087852478, 0.37556877732276917, 0.8091390132904053, 0.37556877732276917, 0.20303820073604584, 0.37122291326522827, 0.33152005076408386, 0.20303820073604584, 0.35703808069229126, 0.8091390132904053, 0.1633274257183075, 0.1633274257183075, 0.8091390132904053, 0.40060654282569885, 0.1691509336233139, 0.90727698802948, 0.1633274257183075, 0.9251188635826111, 0.1633274257183075, 0.9093160629272461, 0.1691509336233139, 0.1691509336233139, 0.3876122534275055, 0.433313250541687, 0.1691509336233139, 0.32460498809814453, 0.20303820073604584, 0.20600642263889313, 0.6700358986854553, 0.33152005076408386, 0.1691509336233139, 0.1691509336233139, 0.1691509336233139, 0.33746567368507385, 0.6700358986854553, 0.37122291326522827, 0.1691509336233139, 0.2700701951980591, 0.1691509336233139, 0.1633274257183075, 0.1691509336233139, 0.4081501066684723, 0.20303820073604584, 0.1691509336233139, 0.20303820073604584, 0.35703808069229126, 0.1633274257183075, 0.1691509336233139, 0.6700358986854553, 0.1691509336233139, 0.90727698802948, 0.8091390132904053, 0.20303820073604584, 0.32204386591911316, 0.1691509336233139, 0.1633274257183075, 0.4329011142253876, 0.1633274257183075, 0.1691509336233139, 0.1633274257183075, 0.3774380087852478, 0.40060654282569885, 0.1691509336233139, 0.1691509336233139, 0.5340070128440857, 0.1691509336233139, 0.9251188635826111, 0.20303820073604584, 0.1633274257183075, 0.8091390132904053, 0.90727698802948, 0.1691509336233139, 0.9210829138755798, 0.3154616057872772, 0.1691509336233139, 0.32054612040519714, 0.20303820073604584, 0.1691509336233139, 0.1691509336233139, 0.1691509336233139, 0.1691509336233139, 0.6700358986854553, 0.1691509336233139, 0.20303820073604584, 0.1691509336233139, 0.1691509336233139, 0.37122291326522827, 0.20303820073604584, 0.1633274257183075, 0.40060654282569885, 0.1691509336233139, 0.1974942982196808, 0.1691509336233139, 0.5086602568626404, 0.1633274257183075, 0.90727698802948, 0.8091390132904053, 0.1691509336233139, 0.32054612040519714, 0.35528063774108887, 0.9031620621681213, 0.1691509336233139, 0.33746567368507385, 0.1691509336233139, 0.9052821397781372, 0.1633274257183075, 0.6700358986854553, 0.90727698802948, 0.4081501066684723, 0.1633274257183075, 0.1633274257183075, 0.20303820073604584, 0.38928481936454773, 0.20303820073604584, 0.1633274257183075, 0.20303820073604584, 0.6700358986854553, 0.20303820073604584, 0.1691509336233139, 0.20303820073604584, 0.32204386591911316, 0.4764738380908966, 0.1633274257183075, 0.1633274257183075, 0.7384953498840332, 0.90727698802948, 0.1633274257183075, 0.6700358986854553, 0.5340070128440857, 0.30806076526641846, 0.38928481936454773, 0.9093160629272461, 0.20303820073604584, 0.1691509336233139, 0.41000276803970337, 0.1691509336233139, 0.1691509336233139, 0.90727698802948, 0.9228442311286926, 0.20303820073604584, 0.32204386591911316, 0.4764738380908966, 0.6700358986854553, 0.9093160629272461, 0.20303820073604584, 0.32204386591911316, 0.1691509336233139, 0.3876122534275055, 0.1691509336233139, 0.1633274257183075, 0.20303820073604584, 0.90727698802948, 0.9251188635826111, 0.1691509336233139, 0.1691509336233139, 0.8091390132904053, 0.20303820073604584, 0.1691509336233139, 0.1691509336233139, 0.1691509336233139, 0.4081501066684723, 0.4993354082107544, 0.33152005076408386, 0.1633274257183075, 0.23545874655246735, 0.1691509336233139, 0.1691509336233139, 0.1691509336233139, 0.1691509336233139, 0.32460498809814453, 0.7384953498840332, 0.9251188635826111, 0.6700358986854553, 0.1691509336233139, 0.20303820073604584, 0.8091390132904053, 0.40060654282569885, 0.1691509336233139, 0.9093160629272461, 0.4081501066684723, 0.6700358986854553, 0.20303820073604584, 0.7467284798622131, 0.33152005076408386, 0.35528063774108887, 0.1691509336233139, 0.1633274257183075, 0.1691509336233139, 0.8091390132904053, 0.8091390132904053, 0.8091390132904053, 0.1691509336233139, 0.1633274257183075, 0.4764738380908966, 0.5340070128440857, 0.1691509336233139, 0.1633274257183075, 0.20303820073604584, 0.1691509336233139, 0.1691509336233139, 0.1691509336233139, 0.1691509336233139, 0.1633274257183075, 0.20303820073604584, 0.1691509336233139, 0.5340070128440857, 0.3774380087852478, 0.90727698802948, 0.1633274257183075, 0.32204386591911316, 0.1691509336233139, 0.8091390132904053, 0.1691509336233139, 0.9031620621681213, 0.1691509336233139, 0.1691509336233139, 0.32460498809814453, 0.20303820073604584, 0.7467284798622131, 0.9093160629272461, 0.32460498809814453, 0.1691509336233139, 0.4329011142253876, 0.8091390132904053, 0.1691509336233139, 0.8091390132904053, 0.33746567368507385, 0.90727698802948, 0.48856815695762634, 0.1691509336233139, 0.1633274257183075, 0.20303820073604584, 0.20303820073604584, 0.9031620621681213, 0.5340070128440857, 0.8091390132904053, 0.1691509336233139, 0.7384953498840332, 0.9210829138755798, 0.7467284798622131, 0.1633274257183075, 0.20303820073604584, 0.20600642263889313, 0.1691509336233139, 0.3154616057872772, 0.589168131351471, 0.1691509336233139, 0.20303820073604584, 0.1633274257183075, 0.1691509336233139, 0.1691509336233139, 0.33152005076408386, 0.8091390132904053, 0.1633274257183075, 0.1691509336233139, 0.5340070128440857, 0.20303820073604584, 0.20303820073604584, 0.1633274257183075, 0.1633274257183075, 0.20303820073604584, 0.33152005076408386, 0.32460498809814453, 0.9093160629272461, 0.1691509336233139, 0.1691509336233139, 0.1691509336233139, 0.35703808069229126, 0.1691509336233139, 0.8091390132904053, 0.8091390132904053, 0.4764738380908966, 0.1691509336233139, 0.35703808069229126, 0.20303820073604584, 0.20600642263889313, 0.1691509336233139, 0.30806076526641846, 0.9210829138755798, 0.6700358986854553, 0.48856815695762634, 0.1691509336233139, 0.41000276803970337, 0.1633274257183075, 0.20303820073604584, 0.1691509336233139, 0.1691509336233139, 0.90727698802948, 0.8091390132904053, 0.433313250541687, 0.1633274257183075, 0.20303820073604584, 0.20303820073604584, 0.1691509336233139, 0.20303820073604584, 0.37122291326522827, 0.20303820073604584, 0.20303820073604584, 0.20303820073604584, 0.4764738380908966, 0.35703808069229126, 0.20303820073604584, 0.1691509336233139, 0.35703808069229126, 0.1691509336233139, 0.1691509336233139, 0.1974942982196808, 0.1691509336233139, 0.24510744214057922, 0.32204386591911316, 0.9031620621681213, 0.1633274257183075, 0.20303820073604584, 0.37556877732276917, 0.8091390132904053, 0.35703808069229126, 0.8091390132904053, 0.8091390132904053, 0.20303820073604584, 0.37122291326522827, 0.1633274257183075, 0.24510744214057922, 0.1691509336233139, 0.1691509336233139, 0.6700358986854553, 0.8091390132904053, 0.3154616057872772, 0.8091390132904053, 0.36698663234710693, 0.20303820073604584, 0.37556877732276917, 0.48856815695762634, 0.20303820073604584, 0.20303820073604584, 0.1974942982196808, 0.1691509336233139, 0.20303820073604584, 0.1691509336233139, 0.1691509336233139, 0.1691509336233139, 0.9251188635826111, 0.1691509336233139, 0.1633274257183075, 0.1691509336233139, 0.1691509336233139, 0.23545874655246735, 0.1691509336233139, 0.1633274257183075, 0.32460498809814453, 0.20303820073604584, 0.37556877732276917, 0.1691509336233139, 0.23545874655246735, 0.90727698802948, 0.1691509336233139, 0.20303820073604584, 0.4081501066684723, 0.8091390132904053, 0.32204386591911316, 0.8091390132904053, 0.20303820073604584, 0.35528063774108887, 0.1691509336233139, 0.32204386591911316, 0.20303820073604584, 0.48856815695762634, 0.3154616057872772, 0.1633274257183075, 0.32460498809814453, 0.1633274257183075, 0.8091390132904053, 0.7384953498840332, 0.33152005076408386, 0.589168131351471, 0.9052821397781372, 0.1691509336233139, 0.1691509336233139, 0.20303820073604584, 0.20303820073604584, 0.1691509336233139, 0.1691509336233139, 0.1691509336233139, 0.37556877732276917, 0.20303820073604584, 0.20303820073604584, 0.33152005076408386, 0.1633274257183075, 0.20303820073604584, 0.20303820073604584, 0.7467284798622131, 0.1691509336233139, 0.20303820073604584, 0.32204386591911316, 0.1974942982196808, 0.1691509336233139, 0.8091390132904053, 0.37556877732276917, 0.1691509336233139, 0.90727698802948, 0.24510744214057922, 0.1691509336233139, 0.433313250541687, 0.32054612040519714, 0.1691509336233139, 0.8091390132904053, 0.1633274257183075, 0.1691509336233139, 0.1691509336233139, 0.1691509336233139, 0.23545874655246735, 0.40218666195869446, 0.20303820073604584, 0.1691509336233139, 0.41000276803970337, 0.1691509336233139, 0.9093160629272461, 0.1691509336233139, 0.1691509336233139, 0.41000276803970337, 0.20303820073604584, 0.90727698802948, 0.1691509336233139, 0.1691509336233139, 0.20303820073604584, 0.3154616057872772, 0.20303820073604584, 0.7467284798622131, 0.20303820073604584, 0.3774380087852478, 0.20303820073604584, 0.20303820073604584, 0.1633274257183075, 0.37122291326522827, 0.1691509336233139, 0.20303820073604584, 0.1691509336233139, 0.33152005076408386, 0.9251188635826111, 0.90727698802948, 0.4993354082107544, 0.35703808069229126, 0.3672018051147461, 0.4764738380908966, 0.3774380087852478, 0.1633274257183075, 0.8091390132904053, 0.1691509336233139, 0.9052821397781372, 0.90727698802948, 0.36576730012893677, 0.20303820073604584, 0.32460498809814453, 0.1633274257183075, 0.20303820073604584, 0.1691509336233139, 0.1691509336233139, 0.1691509336233139, 0.1691509336233139, 0.20303820073604584, 0.1691509336233139, 0.6700358986854553, 0.1633274257183075, 0.1691509336233139, 0.9251188635826111, 0.1691509336233139, 0.9228442311286926, 0.1691509336233139, 0.1691509336233139, 0.20303820073604584, 0.1691509336233139, 0.33152005076408386, 0.33746567368507385, 0.1691509336233139, 0.1691509336233139, 0.1691509336233139, 0.3876122534275055, 0.1691509336233139, 0.1691509336233139, 0.1691509336233139, 0.20303820073604584, 0.8091390132904053, 0.20303820073604584, 0.1691509336233139, 0.1633274257183075, 0.8091390132904053, 0.5340070128440857, 0.20303820073604584, 0.1691509336233139, 0.8091390132904053, 0.1691509336233139, 0.1633274257183075, 0.33152005076408386, 0.1691509336233139, 0.1633274257183075, 0.20303820073604584, 0.1691509336233139, 0.9031620621681213, 0.3774380087852478, 0.1691509336233139, 0.20303820073604584, 0.1691509336233139, 0.90727698802948, 0.8091390132904053, 0.37122291326522827, 0.32204386591911316, 0.32054612040519714, 0.1691509336233139, 0.1691509336233139, 0.6700358986854553, 0.1691509336233139, 0.1633274257183075, 0.1633274257183075, 0.20303820073604584, 0.1633274257183075, 0.20303820073604584, 0.38928481936454773, 0.454630047082901, 0.20303820073604584, 0.1633274257183075, 0.20303820073604584, 0.4329011142253876, 0.24510744214057922, 0.20303820073604584, 0.23545874655246735, 0.1691509336233139, 0.1691509336233139, 0.20303820073604584, 0.33152005076408386, 0.1691509336233139, 0.1691509336233139, 0.1691509336233139, 0.6700358986854553, 0.1691509336233139, 0.1691509336233139, 0.32460498809814453, 0.20303820073604584, 0.20303820073604584, 0.32054612040519714, 0.1691509336233139, 0.6700358986854553, 0.1691509336233139, 0.5340070128440857, 0.1691509336233139, 0.7467284798622131, 0.3774380087852478, 0.1691509336233139, 0.1633274257183075, 0.35528063774108887, 0.1691509336233139, 0.90727698802948, 0.1691509336233139, 0.20303820073604584]\n"
     ]
    }
   ],
   "source": [
    "import boto3\n",
    "from botocore.config import Config\n",
    "\n",
    "# Initialize the SageMaker Runtime client with a retry strategy\n",
    "config = Config(\n",
    "    read_timeout=70,\n",
    "    retries={\n",
    "        'max_attempts': 2  # Adjust this value as needed (up to 5 for a max timeout of 360s)\n",
    "    }\n",
    ")\n",
    "runtime_sagemaker_client = boto3.client('sagemaker-runtime', config=config)\n",
    "\n",
    "# Define the endpoint name and the specific model to target\n",
    "endpoint_name = \"multi-model-endpoint-2\"\n",
    "target_model = \"model.tar.gz\"\n",
    "\n",
    "# Example CSV input data\n",
    "\n",
    "# Invoke the endpoint\n",
    "response = runtime_sagemaker_client.invoke_endpoint(\n",
    "    EndpointName=endpoint_name,\n",
    "    ContentType=\"text/csv\",\n",
    "    TargetModel=target_model,\n",
    "    Body=test_data_csv\n",
    ")\n",
    "\n",
    "# Print the response from the model\n",
    "print(response['Body'].read().decode('utf-8'))\n"
   ]
  },
  {
   "cell_type": "markdown",
   "id": "f6705c51-dd3e-42cb-9d15-dbbffc6edbc6",
   "metadata": {},
   "source": [
    "# Ensure you delete all the endpoints after this exercise"
   ]
  },
  {
   "cell_type": "code",
   "execution_count": null,
   "id": "1de854a8-271e-4af1-8124-1021462c0ebb",
   "metadata": {},
   "outputs": [],
   "source": []
  }
 ],
 "metadata": {
  "kernelspec": {
   "display_name": "conda_python3",
   "language": "python",
   "name": "conda_python3"
  },
  "language_info": {
   "codemirror_mode": {
    "name": "ipython",
    "version": 3
   },
   "file_extension": ".py",
   "mimetype": "text/x-python",
   "name": "python",
   "nbconvert_exporter": "python",
   "pygments_lexer": "ipython3",
   "version": "3.10.16"
  }
 },
 "nbformat": 4,
 "nbformat_minor": 5
}
